{
 "cells": [
  {
   "cell_type": "markdown",
   "metadata": {},
   "source": [
    "### Imports"
   ]
  },
  {
   "cell_type": "code",
   "execution_count": 32,
   "metadata": {},
   "outputs": [],
   "source": [
    "from pyspark.sql import SparkSession\n",
    "from pyspark.sql.types import StructType, StructField\n",
    "from pyspark.sql.types import StringType, IntegerType\n",
    "from pyspark.sql import functions"
   ]
  },
  {
   "cell_type": "code",
   "execution_count": 33,
   "metadata": {},
   "outputs": [],
   "source": [
    "spark = SparkSession \\\n",
    "    .builder \\\n",
    "    .appName(\"Lab7\") \\\n",
    "    .getOrCreate()\n",
    "\n",
    "context = spark.sparkContext"
   ]
  },
  {
   "cell_type": "markdown",
   "metadata": {},
   "source": [
    "### Reading employees into the dataframe"
   ]
  },
  {
   "cell_type": "code",
   "execution_count": 34,
   "metadata": {},
   "outputs": [],
   "source": [
    "schema = StructType([\n",
    "    StructField(\"emp_id\", StringType(), False),\n",
    "    StructField(\"fname\", StringType(), True),\n",
    "    StructField(\"lname\", StringType(), True),\n",
    "    StructField(\"address\", StringType(), True),\n",
    "    StructField(\"city\", StringType(), True),\n",
    "    StructField(\"state\", StringType(), True),\n",
    "    StructField(\"zipcode\", StringType(), True),\n",
    "    StructField(\"job_title\", StringType(), True),\n",
    "    StructField(\"email\", StringType(), True),\n",
    "    StructField(\"active\", StringType(), True),\n",
    "    StructField(\"salary\", IntegerType(), True),\n",
    "])\n",
    "\n",
    "df = spark.read.format(\"csv\") \\\n",
    "    .option(\"sep\", \"\\t\") \\\n",
    "    .option(\"header\", True) \\\n",
    "    .schema(schema) \\\n",
    "    .load(\"./data/employees.txt\")\n",
    "\n",
    "df.createOrReplaceTempView(\"employees\")"
   ]
  },
  {
   "cell_type": "code",
   "execution_count": 35,
   "metadata": {},
   "outputs": [
    {
     "name": "stdout",
     "output_type": "stream",
     "text": [
      "+---------+--------+---------+--------------------+----------------+-----+-------+------------------+--------------------+------+------+\n",
      "|   emp_id|   fname|    lname|             address|            city|state|zipcode|         job_title|               email|active|salary|\n",
      "+---------+--------+---------+--------------------+----------------+-----+-------+------------------+--------------------+------+------+\n",
      "|AA1130960|     Amy|   Alicea|    2472 25th Street|          Fulton|   KY|  42041|   Sales Associate|aa1130960@example...|     Y| 22329|\n",
      "|AA1146303|    Anna|   Atkins|4640 East 10th St...|   Scotts Valley|   CA|  95066| Assistant Manager|aa1146303@example...|     Y| 99645|\n",
      "|AA1154964|   Annie|Albritton|4444 West 14th St...|          Thorpe|   WV|  24888|   Sales Associate|aa1154964@example...|     Y| 26717|\n",
      "|AA1352280| Antoine|  Aguirre|3293 West 2nd Street|          Mobile|   AL|  36630|   Sales Associate|aa1352280@example...|     Y| 26078|\n",
      "|AA1411429|  Arthur| Andersen|    4216 21st Street|          Canton|   MS|  39046|           Cashier|aa1411429@example...|     Y| 17486|\n",
      "|AA1418885|  Amanda| Atkinson|    1863 13th Street|        Stockton|   CA|  95207|   Sales Associate|aa1418885@example...|     Y| 22278|\n",
      "|AA1510726|     Ann|    Askew|25406 West 12th S...|       Webbville|   KY|  41180|      Merchandiser|aa1510726@example...|     Y| 17220|\n",
      "|AA1567042|    Anne|  Almonte|4950 North 8th St...|     Springville|   CA|  93265|           Cashier|aa1567042@example...|     Y| 18566|\n",
      "|AA1609979| Anthony|    Allen|25241 North 2nd S...|          Aspers|   PA|  17304|           Cashier|aa1609979@example...|     Y| 20575|\n",
      "|AA1636177| Anthony|  Aguilar|    4885 Carter Road|           Peetz|   CO|  80747|   Sales Associate|aa1636177@example...|     Y| 25262|\n",
      "|AA1664455|     Amy|  Arriaga|4100 East 8th Street|Franklin Springs|   NY|  13341|   Sales Associate|aa1664455@example...|     Y| 21271|\n",
      "|AA1881657|Angelica| Atkinson|784 West 14th Street|      Sacramento|   CA|  94247|   Sales Associate|aa1881657@example...|     Y| 25081|\n",
      "|AA1887065|   Alice|   Adorno|2612 West 17th St...|      Carrollton|   OH|  44615|   Sales Associate|aa1887065@example...|     Y| 27093|\n",
      "|AA1890776|   Alisa|    Asher|2116 East Victori...|           Price|   UT|  84501|   Sales Associate|aa1890776@example...|     Y| 24519|\n",
      "|AA2028155|  Albert|  Arevalo|8474 East Oak Bou...|        San Jose|   CA|  95160|   Sales Associate|aa2028155@example...|     Y| 26406|\n",
      "|AA2052636|  Albert|    Ayala|33878 East 17th S...|         Oakland|   CA|  94626|   Sales Associate|aa2052636@example...|     Y| 25970|\n",
      "|AA2055666|  Andrea|Alexander|3577 North 18th S...|   Castro Valley|   CA|  94552|           Cashier|aa2055666@example...|     Y| 21738|\n",
      "|AA2201561|     Amy|   Alaniz|868 East 12th Street|      Trout Lake|   WA|  98650|Maintenance Worker|aa2201561@example...|     Y| 23898|\n",
      "|AA2259449|   Annie|     Ault|13490 North 16th ...|      Middletown|   OH|  45043|           Cashier|aa2259449@example...|     Y| 16704|\n",
      "|AA2334286|    Adam|     Ault|1761 West 22nd St...|           Uriah|   AL|  36480|   Sales Associate|aa2334286@example...|     Y| 23146|\n",
      "+---------+--------+---------+--------------------+----------------+-----+-------+------------------+--------------------+------+------+\n",
      "only showing top 20 rows\n",
      "\n"
     ]
    }
   ],
   "source": [
    "df.show()"
   ]
  },
  {
   "cell_type": "markdown",
   "metadata": {},
   "source": [
    "### Exercise 1"
   ]
  },
  {
   "cell_type": "markdown",
   "metadata": {},
   "source": [
    "#### Dataframe API/DSL"
   ]
  },
  {
   "cell_type": "code",
   "execution_count": 36,
   "metadata": {},
   "outputs": [
    {
     "name": "stdout",
     "output_type": "stream",
     "text": [
      "+---------+-----+-------+--------------------+-----------+-----+-------+------------------+--------------------+------+------+\n",
      "|   emp_id|fname|  lname|             address|       city|state|zipcode|         job_title|               email|active|salary|\n",
      "+---------+-----+-------+--------------------+-----------+-----+-------+------------------+--------------------+------+------+\n",
      "|AW2136153|Aaron|  Woody|      131 7th Street|     Mantua|   NJ|  08051|   Sales Associate|aw2136153@example...|     Y| 22164|\n",
      "|AW1399370|Aaron|   Weil|4587 East 21st St...| Sacramento|   CA|  94232|           Cashier|aw1399370@example...|     Y| 17208|\n",
      "|AW1743700|Aaron| Waters|32887 West 4th St...|      Ocala|   FL|  34475|   Sales Associate|aw1743700@example...|     Y| 20026|\n",
      "|AV5801330|Aaron|Vincent|8714 North Foster...|  San Mateo|   CA|  94405|   Sales Associate|av5801330@example...|     Y| 28575|\n",
      "|AV3024299|Aaron|Velasco|21925 West 7th St...|Watsonville|   CA|  95077|Maintenance Worker|av3024299@example...|     Y| 25779|\n",
      "+---------+-----+-------+--------------------+-----------+-----+-------+------------------+--------------------+------+------+\n",
      "\n"
     ]
    }
   ],
   "source": [
    "df.orderBy(functions.col(\"fname\").asc(), functions.col(\"lname\").desc()).limit(5).show()"
   ]
  },
  {
   "cell_type": "markdown",
   "metadata": {},
   "source": [
    "#### SQL Language"
   ]
  },
  {
   "cell_type": "code",
   "execution_count": 37,
   "metadata": {},
   "outputs": [
    {
     "name": "stdout",
     "output_type": "stream",
     "text": [
      "+---------+-----+---------+--------------------+------------+-----+-------+--------------------+--------------------+------+------+\n",
      "|   emp_id|fname|    lname|             address|        city|state|zipcode|           job_title|               email|active|salary|\n",
      "+---------+-----+---------+--------------------+------------+-----+-------+--------------------+--------------------+------+------+\n",
      "|AW2136153|Aaron|    Woody|      131 7th Street|      Mantua|   NJ|  08051|     Sales Associate|aw2136153@example...|     Y| 22164|\n",
      "|AW1399370|Aaron|     Weil|4587 East 21st St...|  Sacramento|   CA|  94232|             Cashier|aw1399370@example...|     Y| 17208|\n",
      "|AW1743700|Aaron|   Waters|32887 West 4th St...|       Ocala|   FL|  34475|     Sales Associate|aw1743700@example...|     Y| 20026|\n",
      "|AV5801330|Aaron|  Vincent|8714 North Foster...|   San Mateo|   CA|  94405|     Sales Associate|av5801330@example...|     Y| 28575|\n",
      "|AV8865900|Aaron|  Velasco|3484 West 10th St...| Hustonville|   KY|  40437|             Cashier|av8865900@example...|     Y| 20644|\n",
      "|AV3024299|Aaron|  Velasco|21925 West 7th St...| Watsonville|   CA|  95077|  Maintenance Worker|av3024299@example...|     Y| 25779|\n",
      "|AU6941391|Aaron|Underwood|3284 West 16th St...|  Charleston|   WV|  25333|             Cashier|au6941391@example...|     Y| 17541|\n",
      "|AU8988610|Aaron|Underwood|1118 East Spruce ...|     Topmost|   KY|  41862|     Sales Associate|au8988610@example...|     Y| 19209|\n",
      "|AT2896510|Aaron|    Towne|820 West Augusta ...|      Draper|   UT|  84020|Loss Prevention S...|at2896510@example...|     Y| 17757|\n",
      "|AT5747382|Aaron|   Torrey|3839 North 14th S...|      Linden|   CA|  95236|     Sales Associate|at5747382@example...|     Y| 30593|\n",
      "|AT3090784|Aaron|  Thomson|  1064 Gaston Avenue|    San Jose|   CA|  95103|     Sales Associate|at3090784@example...|     Y| 26182|\n",
      "|AT5295847|Aaron|   Thomas|6347 North Genevi...|       Avoca|   NY|  14809|     Sales Associate|at5295847@example...|     Y| 21245|\n",
      "|AT9685212|Aaron|  Terrell|     1096 Ellis Road| Laytonville|   CA|  95454|     Sales Associate|at9685212@example...|     Y| 29517|\n",
      "|AT7454895|Aaron|  Terrell|4713 East 5th Street|Union Church|   MS|  39668|     Sales Associate|at7454895@example...|     Y| 24238|\n",
      "|AS5859169|Aaron|    Swink|2482 West 20th St...|  Sacramento|   CA|  94296|             Cashier|as5859169@example...|     Y| 21349|\n",
      "|AS4985712|Aaron|   Summer|4057 West 21st St...|    Calpella|   CA|  95418|     Sales Associate|as4985712@example...|     Y| 22955|\n",
      "|AS4882839|Aaron|   Summer|2278 East 2nd Street|      Yakima|   WA|  98909|     Sales Associate|as4882839@example...|     Y| 23876|\n",
      "|AS8727826|Aaron| Streeter|21949 North 5th S...| Los Angeles|   CA|  90044|       Store Manager|as8727826@example...|     Y| 61740|\n",
      "|AS6106095|Aaron|     Soto|19602 West 21st S...|       Alamo|   GA|  30411|             Cashier|as6106095@example...|     Y| 17394|\n",
      "|AS3741902|Aaron|    Sloan|377 West Turner B...|  Huntington|   WV|  25723|             Cashier|as3741902@example...|     Y| 16364|\n",
      "+---------+-----+---------+--------------------+------------+-----+-------+--------------------+--------------------+------+------+\n",
      "only showing top 20 rows\n",
      "\n"
     ]
    }
   ],
   "source": [
    "spark.sql(\"SELECT * FROM employees ORDER BY fname ASC, lname DESC\").show()"
   ]
  },
  {
   "cell_type": "markdown",
   "metadata": {},
   "source": [
    "### Exercise 2"
   ]
  },
  {
   "cell_type": "markdown",
   "metadata": {},
   "source": [
    "#### Dataframe API/DSL"
   ]
  },
  {
   "cell_type": "code",
   "execution_count": 40,
   "metadata": {},
   "outputs": [
    {
     "data": {
      "text/plain": [
       "76"
      ]
     },
     "execution_count": 40,
     "metadata": {},
     "output_type": "execute_result"
    }
   ],
   "source": [
    "df.select(\"job_title\").distinct().count()"
   ]
  },
  {
   "cell_type": "markdown",
   "metadata": {},
   "source": [
    "#### SQL Language"
   ]
  },
  {
   "cell_type": "code",
   "execution_count": 46,
   "metadata": {},
   "outputs": [
    {
     "name": "stdout",
     "output_type": "stream",
     "text": [
      "+-----+\n",
      "|Count|\n",
      "+-----+\n",
      "|   76|\n",
      "+-----+\n",
      "\n"
     ]
    }
   ],
   "source": [
    "spark.sql(\"SELECT COUNT(DISTINCT job_title) as Count FROM employees\").show()"
   ]
  },
  {
   "cell_type": "markdown",
   "metadata": {},
   "source": [
    "### Exercise 3"
   ]
  },
  {
   "cell_type": "markdown",
   "metadata": {},
   "source": [
    "#### Dataframe API/DSL"
   ]
  },
  {
   "cell_type": "code",
   "execution_count": 30,
   "metadata": {},
   "outputs": [
    {
     "name": "stdout",
     "output_type": "stream",
     "text": [
      "+--------------------+-----------+------------------+\n",
      "|           job_title|# Employees|    Average Salary|\n",
      "+--------------------+-----------+------------------+\n",
      "|           President|          1|         3500000.0|\n",
      "|Information Secur...|          7| 81376.85714285714|\n",
      "|       Store Manager|        703| 47178.45234708393|\n",
      "|      Fraud Examiner|          2|           67878.0|\n",
      "|Business Intellig...|         13| 91869.92307692308|\n",
      "|          Landscaper|         62| 27045.08064516129|\n",
      "|      Vice President|         13|166443.38461538462|\n",
      "|     Sales Associate|      39747|24276.333660402044|\n",
      "|      Security Guard|        745|19270.107382550337|\n",
      "|System Administrator|         32|       95883.21875|\n",
      "|  Maintenance Worker|        730|25736.098630136985|\n",
      "|                 CTO|          1|          695000.0|\n",
      "|Investor Relation...|          1|           33500.0|\n",
      "|             Cashier|      13621| 19582.02532853682|\n",
      "|            Director|         23|135962.47826086957|\n",
      "|   Marketing Manager|          1|           51216.0|\n",
      "|           Carpenter|          2|           44012.5|\n",
      "|     Project Manager|         67|  78749.5671641791|\n",
      "|              Driver|        111|31291.171171171172|\n",
      "|Labor Relations S...|          2|           47021.5|\n",
      "+--------------------+-----------+------------------+\n",
      "only showing top 20 rows\n",
      "\n"
     ]
    }
   ],
   "source": [
    "df.groupBy(\"job_title\").agg(\n",
    "        functions.count_distinct(\"emp_id\").alias(\"# Employees\"),\n",
    "        functions.avg(\"salary\").alias(\"Average Salary\")\n",
    "    ).show()"
   ]
  },
  {
   "cell_type": "markdown",
   "metadata": {},
   "source": [
    "#### SQL Language"
   ]
  },
  {
   "cell_type": "code",
   "execution_count": 51,
   "metadata": {},
   "outputs": [
    {
     "name": "stdout",
     "output_type": "stream",
     "text": [
      "+--------------------+--------------+------------------+\n",
      "|           job_title|EmployeesCount|     AverageSalary|\n",
      "+--------------------+--------------+------------------+\n",
      "|           President|             1|         3500000.0|\n",
      "|Information Secur...|             7| 81376.85714285714|\n",
      "|       Store Manager|           703| 47178.45234708393|\n",
      "|      Fraud Examiner|             2|           67878.0|\n",
      "|Business Intellig...|            13| 91869.92307692308|\n",
      "|          Landscaper|            62| 27045.08064516129|\n",
      "|      Vice President|            13|166443.38461538462|\n",
      "|     Sales Associate|         39747|24276.333660402044|\n",
      "|      Security Guard|           745|19270.107382550337|\n",
      "|System Administrator|            32|       95883.21875|\n",
      "|  Maintenance Worker|           730|25736.098630136985|\n",
      "|                 CTO|             1|          695000.0|\n",
      "|Investor Relation...|             1|           33500.0|\n",
      "|             Cashier|         13621| 19582.02532853682|\n",
      "|            Director|            23|135962.47826086957|\n",
      "|   Marketing Manager|             1|           51216.0|\n",
      "|           Carpenter|             2|           44012.5|\n",
      "|     Project Manager|            67|  78749.5671641791|\n",
      "|              Driver|           111|31291.171171171172|\n",
      "|Labor Relations S...|             2|           47021.5|\n",
      "+--------------------+--------------+------------------+\n",
      "only showing top 20 rows\n",
      "\n"
     ]
    }
   ],
   "source": [
    "spark.sql(\"SELECT job_title, COUNT(DISTINCT emp_id) AS EmployeesCount, \\\n",
    "     AVG(salary) AS AverageSalary FROM employees GROUP BY job_title\").show()"
   ]
  }
 ],
 "metadata": {
  "kernelspec": {
   "display_name": "Python 3.10.0 64-bit",
   "language": "python",
   "name": "python3"
  },
  "language_info": {
   "codemirror_mode": {
    "name": "ipython",
    "version": 3
   },
   "file_extension": ".py",
   "mimetype": "text/x-python",
   "name": "python",
   "nbconvert_exporter": "python",
   "pygments_lexer": "ipython3",
   "version": "3.10.0"
  },
  "orig_nbformat": 4,
  "vscode": {
   "interpreter": {
    "hash": "b7b46b867890f504ffb44f0b1121aba21fe0053c48c7ec546cc86a7fedb889be"
   }
  }
 },
 "nbformat": 4,
 "nbformat_minor": 2
}
