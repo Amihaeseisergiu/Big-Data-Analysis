{
 "cells": [
  {
   "cell_type": "code",
   "execution_count": 8,
   "metadata": {},
   "outputs": [],
   "source": [
    "import numpy as np\n",
    "import pandas as pd\n",
    "from tqdm import tqdm\n",
    "from plotly.subplots import make_subplots\n",
    "import plotly.graph_objects as go"
   ]
  },
  {
   "cell_type": "code",
   "execution_count": 3,
   "metadata": {},
   "outputs": [],
   "source": [
    "categories = [\n",
    "    'frontpage',\n",
    "    'news',\n",
    "    'tech',\n",
    "    'local',\n",
    "    'opinion',\n",
    "    'on-air',\n",
    "    'misc',\n",
    "    'weather',\n",
    "    'msn-news',\n",
    "    'health',\n",
    "    'living',\n",
    "    'business',\n",
    "    'msn-sports',\n",
    "    'sports',\n",
    "    'summary',\n",
    "    'bbs',\n",
    "    'travel'\n",
    "]"
   ]
  },
  {
   "cell_type": "code",
   "execution_count": 57,
   "metadata": {},
   "outputs": [],
   "source": [
    "def parse_dataset(path='./data/msnbc/data.seq'):\n",
    "    with open(path) as f:\n",
    "        user = 1\n",
    "        data = []\n",
    "\n",
    "        for line in f:\n",
    "            split_line = line.split()\n",
    "            user_cateogories = [categories[int(i) - 1] for i in split_line]\n",
    "\n",
    "            data.append(np.array(user_cateogories, dtype=object))\n",
    "            user += 1\n",
    "\n",
    "    return np.array(data, dtype=object)\n",
    "\n",
    "def get_refresh_data(category, user_visits):\n",
    "    \"\"\"\n",
    "    Sliding window approach to find the longest/shortest\n",
    "    continuous subsequence in O(n) time\n",
    "    \"\"\"\n",
    "    longest, shortest, start, end = 0, len(user_visits) + 1, 0, len(user_visits)\n",
    "    current, refreshes = 0, 0\n",
    "\n",
    "    while start < end:\n",
    "        if user_visits[start] == category:\n",
    "            current += 1\n",
    "        else:\n",
    "            if current >= 2:\n",
    "                current -= 1 #substract the initial visit\n",
    "                refreshes += current\n",
    "                longest = current if current > longest else longest\n",
    "                shortest = current if current < shortest else shortest\n",
    "                current = 0\n",
    "\n",
    "        start += 1\n",
    "\n",
    "    if current >= 2:\n",
    "        current -= 1 #substract the initial visit\n",
    "        refreshes += current\n",
    "        longest = current if current > longest else longest\n",
    "        shortest = current if current < shortest else shortest\n",
    "    \n",
    "    return refreshes, longest, shortest if shortest < len(user_visits) + 1 else 0\n",
    "\n",
    "def get_revisit_data(category, user_visits):\n",
    "    revisits, longest, shortest = 0, 0, len(user_visits) + 1\n",
    "    previous = -1\n",
    "\n",
    "    for current, visit in enumerate(user_visits):\n",
    "        if visit == category:\n",
    "            if previous == -1:\n",
    "                previous = current\n",
    "            else:\n",
    "                distance = current - previous\n",
    "                previous = current\n",
    "\n",
    "                if distance > 1: #not a refresh\n",
    "                    distance -= 1 #substract the initial visit\n",
    "                    revisits += 1\n",
    "                    longest = distance if distance > longest else longest\n",
    "                    shortest = distance if distance < shortest else shortest\n",
    "\n",
    "    return revisits, longest, shortest if shortest < len(user_visits) + 1 else 0\n",
    "\n",
    "def get_dataset_stats(data):\n",
    "    categories_stats = {}\n",
    "\n",
    "    for category in tqdm(categories):\n",
    "        categories_stats[category] = {\n",
    "            'visits': 0,           #1 2 2 1, here 1 and 2 were visited both 2 times\n",
    "            'unique_visits': 0,    #1 2 2 1, here 1 and 2 were visited both 1 time\n",
    "            'refreshes': 0,        #1 1 1, here 1 counts as refreshed 2 times\n",
    "            'unique_refreshes': 0, #refreshes counted once per user\n",
    "            'revisits': 0,         #1 2 2 1, here 1 counts as revisited, 2 as refreshed\n",
    "            'unique_revisits': 0,  #revisits counted once per user \n",
    "            'longest_refresh': 0,  #1 1 1 1, here 1 was refreshed 4 times\n",
    "            'shortest_refresh': 0, \n",
    "            'longest_revisit': 0,  #1 2 2 1, revisit distance of 2 sites for 1\n",
    "            'shortest_revisit': 0,\n",
    "        }\n",
    "\n",
    "        for user_visits in data:\n",
    "            categories_stats[category]['visits'] += (user_visits == category).sum()\n",
    "            categories_stats[category]['unique_visits'] += 1 if category in user_visits else 0\n",
    "\n",
    "            refresh_data = get_refresh_data(category, user_visits)\n",
    "            categories_stats[category]['refreshes'] += refresh_data[0]\n",
    "            categories_stats[category]['unique_refreshes'] += (1 if refresh_data[0] > 0 else 0)\n",
    "            \n",
    "            if refresh_data[1] > categories_stats[category]['longest_refresh']:\n",
    "                categories_stats[category]['longest_refresh'] = refresh_data[1]\n",
    "\n",
    "            if refresh_data[2] != 0 and (refresh_data[2] < categories_stats[category]['shortest_refresh']\\\n",
    "                or categories_stats[category]['shortest_refresh'] == 0):\n",
    "                categories_stats[category]['shortest_refresh'] = refresh_data[2]\n",
    "\n",
    "            revisit_data = get_revisit_data(category, user_visits)\n",
    "            categories_stats[category]['revisits'] += revisit_data[0]\n",
    "            categories_stats[category]['unique_revisits'] += (1 if revisit_data[0] > 0 else 0)\n",
    "\n",
    "            if revisit_data[1] > categories_stats[category]['longest_revisit']:\n",
    "                categories_stats[category]['longest_revisit'] = revisit_data[1]\n",
    "\n",
    "            if revisit_data[2] != 0 and (revisit_data[2] < categories_stats[category]['shortest_revisit']\\\n",
    "                or categories_stats[category]['shortest_revisit'] == 0):\n",
    "                categories_stats[category]['shortest_revisit'] = revisit_data[2]\n",
    "\n",
    "    return categories_stats\n",
    "        \n",
    "def plot_categories_statistics(categories, categories_stats):\n",
    "    max_rows, max_cols = 9, 2\n",
    "    row, col = 1, 1\n",
    "\n",
    "    fig = make_subplots(\n",
    "        rows=max_rows, cols=max_cols,\n",
    "        subplot_titles=categories)\n",
    "\n",
    "    for category in categories:\n",
    "        X, Y = [], []\n",
    "\n",
    "        for key in categories_stats[category]:\n",
    "            X.append(key)\n",
    "            Y.append(categories_stats[category][key])\n",
    "\n",
    "        fig.add_trace(\n",
    "            go.Histogram(histfunc='sum', x=X, y=Y, name=category),\n",
    "            row=row, col=col\n",
    "        )\n",
    "\n",
    "        if col % max_cols == 0:\n",
    "            col = 0\n",
    "            row += 1\n",
    "\n",
    "        col += 1\n",
    "\n",
    "    fig.update_layout(\n",
    "        title_text='Categories statistics',\n",
    "        bargap=0.1,\n",
    "        height=max_rows * 300,\n",
    "        width=max_cols * 650\n",
    "    )\n",
    "\n",
    "    fig.show()\n",
    "\n",
    "def plot_statistics_categories(categories, categories_stats):\n",
    "    max_rows, max_cols = 10, 1\n",
    "    row, col = 1, 1\n",
    "\n",
    "    statistics = []\n",
    "    for key in categories_stats[categories[0]]:\n",
    "        statistics.append(key)\n",
    "\n",
    "    fig = make_subplots(\n",
    "        rows=max_rows, cols=max_cols,\n",
    "        subplot_titles=statistics)\n",
    "\n",
    "    for statistic in statistics:\n",
    "        X, Y = [], []\n",
    "\n",
    "        for category in categories:\n",
    "            X.append(category)\n",
    "            Y.append(categories_stats[category][statistic])\n",
    "\n",
    "        fig.add_trace(\n",
    "            go.Histogram(histfunc='sum', x=X, y=Y, name=statistic),\n",
    "            row=row, col=col\n",
    "        )\n",
    "\n",
    "        if col % max_cols == 0:\n",
    "            col = 0\n",
    "            row += 1\n",
    "\n",
    "        col += 1\n",
    "\n",
    "    fig.update_layout(\n",
    "        title_text='Statistics categories',\n",
    "        bargap=0.1,\n",
    "        height=max_rows * 300,\n",
    "        width=max_cols * 1200\n",
    "    )\n",
    "\n",
    "    fig.show()"
   ]
  },
  {
   "cell_type": "code",
   "execution_count": 5,
   "metadata": {},
   "outputs": [
    {
     "data": {
      "text/plain": [
       "array([array(['frontpage', 'frontpage'], dtype=object),\n",
       "       array(['news'], dtype=object),\n",
       "       array(['tech', 'news', 'news', 'local', 'news', 'news', 'news', 'tech',\n",
       "              'tech'], dtype=object)                                          ,\n",
       "       array(['opinion'], dtype=object),\n",
       "       array(['frontpage'], dtype=object)], dtype=object)"
      ]
     },
     "execution_count": 5,
     "metadata": {},
     "output_type": "execute_result"
    }
   ],
   "source": [
    "data = parse_dataset('./data/msnbc/data.seq')\n",
    "data[:5]"
   ]
  },
  {
   "cell_type": "code",
   "execution_count": 6,
   "metadata": {},
   "outputs": [
    {
     "name": "stderr",
     "output_type": "stream",
     "text": [
      "100%|██████████| 17/17 [04:21<00:00, 15.38s/it]\n"
     ]
    },
    {
     "data": {
      "text/plain": [
       "{'frontpage': {'visits': 940469,\n",
       "  'unique_visits': 313181,\n",
       "  'refreshes': 526123,\n",
       "  'unique_refreshes': 183510,\n",
       "  'revisits': 208524,\n",
       "  'unique_revisits': 106246,\n",
       "  'longest_refresh': 14794,\n",
       "  'shortest_refresh': 1,\n",
       "  'longest_revisit': 1783,\n",
       "  'shortest_revisit': 1},\n",
       " 'news': {'visits': 452387,\n",
       "  'unique_visits': 175286,\n",
       "  'refreshes': 247557,\n",
       "  'unique_refreshes': 87452,\n",
       "  'revisits': 54761,\n",
       "  'unique_revisits': 32303,\n",
       "  'longest_refresh': 725,\n",
       "  'shortest_refresh': 1,\n",
       "  'longest_revisit': 583,\n",
       "  'shortest_revisit': 1},\n",
       " 'tech': {'visits': 207479,\n",
       "  'unique_visits': 121948,\n",
       "  'refreshes': 80048,\n",
       "  'unique_refreshes': 36169,\n",
       "  'revisits': 13543,\n",
       "  'unique_revisits': 9683,\n",
       "  'longest_refresh': 2057,\n",
       "  'shortest_refresh': 1,\n",
       "  'longest_revisit': 775,\n",
       "  'shortest_revisit': 1},\n",
       " 'local': {'visits': 386217,\n",
       "  'unique_visits': 121719,\n",
       "  'refreshes': 245416,\n",
       "  'unique_refreshes': 58429,\n",
       "  'revisits': 39607,\n",
       "  'unique_revisits': 22843,\n",
       "  'longest_refresh': 534,\n",
       "  'shortest_refresh': 1,\n",
       "  'longest_revisit': 1431,\n",
       "  'shortest_revisit': 1},\n",
       " 'opinion': {'visits': 151409,\n",
       "  'unique_visits': 24987,\n",
       "  'refreshes': 122160,\n",
       "  'unique_refreshes': 15213,\n",
       "  'revisits': 7435,\n",
       "  'unique_revisits': 4453,\n",
       "  'longest_refresh': 439,\n",
       "  'shortest_refresh': 1,\n",
       "  'longest_revisit': 1102,\n",
       "  'shortest_revisit': 1},\n",
       " 'on-air': {'visits': 414928,\n",
       "  'unique_visits': 217101,\n",
       "  'refreshes': 173252,\n",
       "  'unique_refreshes': 70929,\n",
       "  'revisits': 53845,\n",
       "  'unique_revisits': 33531,\n",
       "  'longest_refresh': 1257,\n",
       "  'shortest_refresh': 1,\n",
       "  'longest_revisit': 551,\n",
       "  'shortest_revisit': 1},\n",
       " 'misc': {'visits': 305615,\n",
       "  'unique_visits': 80514,\n",
       "  'refreshes': 197506,\n",
       "  'unique_refreshes': 58746,\n",
       "  'revisits': 47584,\n",
       "  'unique_revisits': 28909,\n",
       "  'longest_refresh': 124,\n",
       "  'shortest_refresh': 1,\n",
       "  'longest_revisit': 1431,\n",
       "  'shortest_revisit': 1},\n",
       " 'weather': {'visits': 439398,\n",
       "  'unique_visits': 95615,\n",
       "  'refreshes': 335018,\n",
       "  'unique_refreshes': 67143,\n",
       "  'revisits': 14548,\n",
       "  'unique_revisits': 9319,\n",
       "  'longest_refresh': 218,\n",
       "  'shortest_refresh': 1,\n",
       "  'longest_revisit': 1511,\n",
       "  'shortest_revisit': 1},\n",
       " 'msn-news': {'visits': 196614,\n",
       "  'unique_visits': 90192,\n",
       "  'refreshes': 95537,\n",
       "  'unique_refreshes': 43656,\n",
       "  'revisits': 25863,\n",
       "  'unique_revisits': 17718,\n",
       "  'longest_refresh': 289,\n",
       "  'shortest_refresh': 1,\n",
       "  'longest_revisit': 2325,\n",
       "  'shortest_revisit': 1},\n",
       " 'health': {'visits': 131760,\n",
       "  'unique_visits': 50606,\n",
       "  'refreshes': 74147,\n",
       "  'unique_refreshes': 21950,\n",
       "  'revisits': 13246,\n",
       "  'unique_revisits': 7933,\n",
       "  'longest_refresh': 96,\n",
       "  'shortest_refresh': 1,\n",
       "  'longest_revisit': 575,\n",
       "  'shortest_revisit': 1},\n",
       " 'living': {'visits': 96817,\n",
       "  'unique_visits': 57597,\n",
       "  'refreshes': 35703,\n",
       "  'unique_refreshes': 17398,\n",
       "  'revisits': 8680,\n",
       "  'unique_revisits': 6149,\n",
       "  'longest_refresh': 78,\n",
       "  'shortest_refresh': 1,\n",
       "  'longest_revisit': 776,\n",
       "  'shortest_revisit': 1},\n",
       " 'business': {'visits': 264899,\n",
       "  'unique_visits': 112183,\n",
       "  'refreshes': 141175,\n",
       "  'unique_refreshes': 46468,\n",
       "  'revisits': 22880,\n",
       "  'unique_revisits': 14312,\n",
       "  'longest_refresh': 893,\n",
       "  'shortest_refresh': 1,\n",
       "  'longest_revisit': 938,\n",
       "  'shortest_revisit': 1},\n",
       " 'msn-sports': {'visits': 216125,\n",
       "  'unique_visits': 76948,\n",
       "  'refreshes': 129522,\n",
       "  'unique_refreshes': 47516,\n",
       "  'revisits': 20169,\n",
       "  'unique_revisits': 14823,\n",
       "  'longest_refresh': 440,\n",
       "  'shortest_refresh': 1,\n",
       "  'longest_revisit': 2098,\n",
       "  'shortest_revisit': 1},\n",
       " 'sports': {'visits': 395880,\n",
       "  'unique_visits': 119138,\n",
       "  'refreshes': 263167,\n",
       "  'unique_refreshes': 72063,\n",
       "  'revisits': 24150,\n",
       "  'unique_revisits': 15525,\n",
       "  'longest_refresh': 310,\n",
       "  'shortest_refresh': 1,\n",
       "  'longest_revisit': 839,\n",
       "  'shortest_revisit': 1},\n",
       " 'summary': {'visits': 56576,\n",
       "  'unique_visits': 29200,\n",
       "  'refreshes': 22110,\n",
       "  'unique_refreshes': 9890,\n",
       "  'revisits': 13926,\n",
       "  'unique_revisits': 7078,\n",
       "  'longest_refresh': 824,\n",
       "  'shortest_refresh': 1,\n",
       "  'longest_revisit': 1822,\n",
       "  'shortest_revisit': 1},\n",
       " 'bbs': {'visits': 25249,\n",
       "  'unique_visits': 2082,\n",
       "  'refreshes': 22510,\n",
       "  'unique_refreshes': 1631,\n",
       "  'revisits': 1022,\n",
       "  'unique_revisits': 419,\n",
       "  'longest_refresh': 729,\n",
       "  'shortest_refresh': 1,\n",
       "  'longest_revisit': 1342,\n",
       "  'shortest_revisit': 1},\n",
       " 'travel': {'visits': 16972,\n",
       "  'unique_visits': 11006,\n",
       "  'refreshes': 5417,\n",
       "  'unique_refreshes': 2925,\n",
       "  'revisits': 1510,\n",
       "  'unique_revisits': 1048,\n",
       "  'longest_refresh': 19,\n",
       "  'shortest_refresh': 1,\n",
       "  'longest_revisit': 2299,\n",
       "  'shortest_revisit': 1}}"
      ]
     },
     "execution_count": 6,
     "metadata": {},
     "output_type": "execute_result"
    }
   ],
   "source": [
    "dataset_stats = get_dataset_stats(data)\n",
    "dataset_stats"
   ]
  },
  {
   "cell_type": "code",
   "execution_count": 58,
   "metadata": {},
   "outputs": [
    {
     "data": {
      "application/vnd.plotly.v1+json": {
       "config": {
        "plotlyServerURL": "https://plot.ly"
       },
       "data": [
        {
         "histfunc": "sum",
         "name": "frontpage",
         "type": "histogram",
         "x": [
          "visits",
          "unique_visits",
          "refreshes",
          "unique_refreshes",
          "revisits",
          "unique_revisits",
          "longest_refresh",
          "shortest_refresh",
          "longest_revisit",
          "shortest_revisit"
         ],
         "xaxis": "x",
         "y": [
          940469,
          313181,
          526123,
          183510,
          208524,
          106246,
          14794,
          1,
          1783,
          1
         ],
         "yaxis": "y"
        },
        {
         "histfunc": "sum",
         "name": "news",
         "type": "histogram",
         "x": [
          "visits",
          "unique_visits",
          "refreshes",
          "unique_refreshes",
          "revisits",
          "unique_revisits",
          "longest_refresh",
          "shortest_refresh",
          "longest_revisit",
          "shortest_revisit"
         ],
         "xaxis": "x2",
         "y": [
          452387,
          175286,
          247557,
          87452,
          54761,
          32303,
          725,
          1,
          583,
          1
         ],
         "yaxis": "y2"
        },
        {
         "histfunc": "sum",
         "name": "tech",
         "type": "histogram",
         "x": [
          "visits",
          "unique_visits",
          "refreshes",
          "unique_refreshes",
          "revisits",
          "unique_revisits",
          "longest_refresh",
          "shortest_refresh",
          "longest_revisit",
          "shortest_revisit"
         ],
         "xaxis": "x3",
         "y": [
          207479,
          121948,
          80048,
          36169,
          13543,
          9683,
          2057,
          1,
          775,
          1
         ],
         "yaxis": "y3"
        },
        {
         "histfunc": "sum",
         "name": "local",
         "type": "histogram",
         "x": [
          "visits",
          "unique_visits",
          "refreshes",
          "unique_refreshes",
          "revisits",
          "unique_revisits",
          "longest_refresh",
          "shortest_refresh",
          "longest_revisit",
          "shortest_revisit"
         ],
         "xaxis": "x4",
         "y": [
          386217,
          121719,
          245416,
          58429,
          39607,
          22843,
          534,
          1,
          1431,
          1
         ],
         "yaxis": "y4"
        },
        {
         "histfunc": "sum",
         "name": "opinion",
         "type": "histogram",
         "x": [
          "visits",
          "unique_visits",
          "refreshes",
          "unique_refreshes",
          "revisits",
          "unique_revisits",
          "longest_refresh",
          "shortest_refresh",
          "longest_revisit",
          "shortest_revisit"
         ],
         "xaxis": "x5",
         "y": [
          151409,
          24987,
          122160,
          15213,
          7435,
          4453,
          439,
          1,
          1102,
          1
         ],
         "yaxis": "y5"
        },
        {
         "histfunc": "sum",
         "name": "on-air",
         "type": "histogram",
         "x": [
          "visits",
          "unique_visits",
          "refreshes",
          "unique_refreshes",
          "revisits",
          "unique_revisits",
          "longest_refresh",
          "shortest_refresh",
          "longest_revisit",
          "shortest_revisit"
         ],
         "xaxis": "x6",
         "y": [
          414928,
          217101,
          173252,
          70929,
          53845,
          33531,
          1257,
          1,
          551,
          1
         ],
         "yaxis": "y6"
        },
        {
         "histfunc": "sum",
         "name": "misc",
         "type": "histogram",
         "x": [
          "visits",
          "unique_visits",
          "refreshes",
          "unique_refreshes",
          "revisits",
          "unique_revisits",
          "longest_refresh",
          "shortest_refresh",
          "longest_revisit",
          "shortest_revisit"
         ],
         "xaxis": "x7",
         "y": [
          305615,
          80514,
          197506,
          58746,
          47584,
          28909,
          124,
          1,
          1431,
          1
         ],
         "yaxis": "y7"
        },
        {
         "histfunc": "sum",
         "name": "weather",
         "type": "histogram",
         "x": [
          "visits",
          "unique_visits",
          "refreshes",
          "unique_refreshes",
          "revisits",
          "unique_revisits",
          "longest_refresh",
          "shortest_refresh",
          "longest_revisit",
          "shortest_revisit"
         ],
         "xaxis": "x8",
         "y": [
          439398,
          95615,
          335018,
          67143,
          14548,
          9319,
          218,
          1,
          1511,
          1
         ],
         "yaxis": "y8"
        },
        {
         "histfunc": "sum",
         "name": "msn-news",
         "type": "histogram",
         "x": [
          "visits",
          "unique_visits",
          "refreshes",
          "unique_refreshes",
          "revisits",
          "unique_revisits",
          "longest_refresh",
          "shortest_refresh",
          "longest_revisit",
          "shortest_revisit"
         ],
         "xaxis": "x9",
         "y": [
          196614,
          90192,
          95537,
          43656,
          25863,
          17718,
          289,
          1,
          2325,
          1
         ],
         "yaxis": "y9"
        },
        {
         "histfunc": "sum",
         "name": "health",
         "type": "histogram",
         "x": [
          "visits",
          "unique_visits",
          "refreshes",
          "unique_refreshes",
          "revisits",
          "unique_revisits",
          "longest_refresh",
          "shortest_refresh",
          "longest_revisit",
          "shortest_revisit"
         ],
         "xaxis": "x10",
         "y": [
          131760,
          50606,
          74147,
          21950,
          13246,
          7933,
          96,
          1,
          575,
          1
         ],
         "yaxis": "y10"
        },
        {
         "histfunc": "sum",
         "name": "living",
         "type": "histogram",
         "x": [
          "visits",
          "unique_visits",
          "refreshes",
          "unique_refreshes",
          "revisits",
          "unique_revisits",
          "longest_refresh",
          "shortest_refresh",
          "longest_revisit",
          "shortest_revisit"
         ],
         "xaxis": "x11",
         "y": [
          96817,
          57597,
          35703,
          17398,
          8680,
          6149,
          78,
          1,
          776,
          1
         ],
         "yaxis": "y11"
        },
        {
         "histfunc": "sum",
         "name": "business",
         "type": "histogram",
         "x": [
          "visits",
          "unique_visits",
          "refreshes",
          "unique_refreshes",
          "revisits",
          "unique_revisits",
          "longest_refresh",
          "shortest_refresh",
          "longest_revisit",
          "shortest_revisit"
         ],
         "xaxis": "x12",
         "y": [
          264899,
          112183,
          141175,
          46468,
          22880,
          14312,
          893,
          1,
          938,
          1
         ],
         "yaxis": "y12"
        },
        {
         "histfunc": "sum",
         "name": "msn-sports",
         "type": "histogram",
         "x": [
          "visits",
          "unique_visits",
          "refreshes",
          "unique_refreshes",
          "revisits",
          "unique_revisits",
          "longest_refresh",
          "shortest_refresh",
          "longest_revisit",
          "shortest_revisit"
         ],
         "xaxis": "x13",
         "y": [
          216125,
          76948,
          129522,
          47516,
          20169,
          14823,
          440,
          1,
          2098,
          1
         ],
         "yaxis": "y13"
        },
        {
         "histfunc": "sum",
         "name": "sports",
         "type": "histogram",
         "x": [
          "visits",
          "unique_visits",
          "refreshes",
          "unique_refreshes",
          "revisits",
          "unique_revisits",
          "longest_refresh",
          "shortest_refresh",
          "longest_revisit",
          "shortest_revisit"
         ],
         "xaxis": "x14",
         "y": [
          395880,
          119138,
          263167,
          72063,
          24150,
          15525,
          310,
          1,
          839,
          1
         ],
         "yaxis": "y14"
        },
        {
         "histfunc": "sum",
         "name": "summary",
         "type": "histogram",
         "x": [
          "visits",
          "unique_visits",
          "refreshes",
          "unique_refreshes",
          "revisits",
          "unique_revisits",
          "longest_refresh",
          "shortest_refresh",
          "longest_revisit",
          "shortest_revisit"
         ],
         "xaxis": "x15",
         "y": [
          56576,
          29200,
          22110,
          9890,
          13926,
          7078,
          824,
          1,
          1822,
          1
         ],
         "yaxis": "y15"
        },
        {
         "histfunc": "sum",
         "name": "bbs",
         "type": "histogram",
         "x": [
          "visits",
          "unique_visits",
          "refreshes",
          "unique_refreshes",
          "revisits",
          "unique_revisits",
          "longest_refresh",
          "shortest_refresh",
          "longest_revisit",
          "shortest_revisit"
         ],
         "xaxis": "x16",
         "y": [
          25249,
          2082,
          22510,
          1631,
          1022,
          419,
          729,
          1,
          1342,
          1
         ],
         "yaxis": "y16"
        },
        {
         "histfunc": "sum",
         "name": "travel",
         "type": "histogram",
         "x": [
          "visits",
          "unique_visits",
          "refreshes",
          "unique_refreshes",
          "revisits",
          "unique_revisits",
          "longest_refresh",
          "shortest_refresh",
          "longest_revisit",
          "shortest_revisit"
         ],
         "xaxis": "x17",
         "y": [
          16972,
          11006,
          5417,
          2925,
          1510,
          1048,
          19,
          1,
          2299,
          1
         ],
         "yaxis": "y17"
        }
       ],
       "layout": {
        "annotations": [
         {
          "font": {
           "size": 16
          },
          "showarrow": false,
          "text": "frontpage",
          "x": 0.225,
          "xanchor": "center",
          "xref": "paper",
          "y": 1,
          "yanchor": "bottom",
          "yref": "paper"
         },
         {
          "font": {
           "size": 16
          },
          "showarrow": false,
          "text": "news",
          "x": 0.775,
          "xanchor": "center",
          "xref": "paper",
          "y": 1,
          "yanchor": "bottom",
          "yref": "paper"
         },
         {
          "font": {
           "size": 16
          },
          "showarrow": false,
          "text": "tech",
          "x": 0.225,
          "xanchor": "center",
          "xref": "paper",
          "y": 0.8827160493827161,
          "yanchor": "bottom",
          "yref": "paper"
         },
         {
          "font": {
           "size": 16
          },
          "showarrow": false,
          "text": "local",
          "x": 0.775,
          "xanchor": "center",
          "xref": "paper",
          "y": 0.8827160493827161,
          "yanchor": "bottom",
          "yref": "paper"
         },
         {
          "font": {
           "size": 16
          },
          "showarrow": false,
          "text": "opinion",
          "x": 0.225,
          "xanchor": "center",
          "xref": "paper",
          "y": 0.7654320987654322,
          "yanchor": "bottom",
          "yref": "paper"
         },
         {
          "font": {
           "size": 16
          },
          "showarrow": false,
          "text": "on-air",
          "x": 0.775,
          "xanchor": "center",
          "xref": "paper",
          "y": 0.7654320987654322,
          "yanchor": "bottom",
          "yref": "paper"
         },
         {
          "font": {
           "size": 16
          },
          "showarrow": false,
          "text": "misc",
          "x": 0.225,
          "xanchor": "center",
          "xref": "paper",
          "y": 0.6481481481481483,
          "yanchor": "bottom",
          "yref": "paper"
         },
         {
          "font": {
           "size": 16
          },
          "showarrow": false,
          "text": "weather",
          "x": 0.775,
          "xanchor": "center",
          "xref": "paper",
          "y": 0.6481481481481483,
          "yanchor": "bottom",
          "yref": "paper"
         },
         {
          "font": {
           "size": 16
          },
          "showarrow": false,
          "text": "msn-news",
          "x": 0.225,
          "xanchor": "center",
          "xref": "paper",
          "y": 0.5308641975308642,
          "yanchor": "bottom",
          "yref": "paper"
         },
         {
          "font": {
           "size": 16
          },
          "showarrow": false,
          "text": "health",
          "x": 0.775,
          "xanchor": "center",
          "xref": "paper",
          "y": 0.5308641975308642,
          "yanchor": "bottom",
          "yref": "paper"
         },
         {
          "font": {
           "size": 16
          },
          "showarrow": false,
          "text": "living",
          "x": 0.225,
          "xanchor": "center",
          "xref": "paper",
          "y": 0.41358024691358025,
          "yanchor": "bottom",
          "yref": "paper"
         },
         {
          "font": {
           "size": 16
          },
          "showarrow": false,
          "text": "business",
          "x": 0.775,
          "xanchor": "center",
          "xref": "paper",
          "y": 0.41358024691358025,
          "yanchor": "bottom",
          "yref": "paper"
         },
         {
          "font": {
           "size": 16
          },
          "showarrow": false,
          "text": "msn-sports",
          "x": 0.225,
          "xanchor": "center",
          "xref": "paper",
          "y": 0.2962962962962963,
          "yanchor": "bottom",
          "yref": "paper"
         },
         {
          "font": {
           "size": 16
          },
          "showarrow": false,
          "text": "sports",
          "x": 0.775,
          "xanchor": "center",
          "xref": "paper",
          "y": 0.2962962962962963,
          "yanchor": "bottom",
          "yref": "paper"
         },
         {
          "font": {
           "size": 16
          },
          "showarrow": false,
          "text": "summary",
          "x": 0.225,
          "xanchor": "center",
          "xref": "paper",
          "y": 0.17901234567901234,
          "yanchor": "bottom",
          "yref": "paper"
         },
         {
          "font": {
           "size": 16
          },
          "showarrow": false,
          "text": "bbs",
          "x": 0.775,
          "xanchor": "center",
          "xref": "paper",
          "y": 0.17901234567901234,
          "yanchor": "bottom",
          "yref": "paper"
         },
         {
          "font": {
           "size": 16
          },
          "showarrow": false,
          "text": "travel",
          "x": 0.225,
          "xanchor": "center",
          "xref": "paper",
          "y": 0.0617283950617284,
          "yanchor": "bottom",
          "yref": "paper"
         }
        ],
        "bargap": 0.1,
        "height": 2700,
        "template": {
         "data": {
          "bar": [
           {
            "error_x": {
             "color": "#2a3f5f"
            },
            "error_y": {
             "color": "#2a3f5f"
            },
            "marker": {
             "line": {
              "color": "#E5ECF6",
              "width": 0.5
             },
             "pattern": {
              "fillmode": "overlay",
              "size": 10,
              "solidity": 0.2
             }
            },
            "type": "bar"
           }
          ],
          "barpolar": [
           {
            "marker": {
             "line": {
              "color": "#E5ECF6",
              "width": 0.5
             },
             "pattern": {
              "fillmode": "overlay",
              "size": 10,
              "solidity": 0.2
             }
            },
            "type": "barpolar"
           }
          ],
          "carpet": [
           {
            "aaxis": {
             "endlinecolor": "#2a3f5f",
             "gridcolor": "white",
             "linecolor": "white",
             "minorgridcolor": "white",
             "startlinecolor": "#2a3f5f"
            },
            "baxis": {
             "endlinecolor": "#2a3f5f",
             "gridcolor": "white",
             "linecolor": "white",
             "minorgridcolor": "white",
             "startlinecolor": "#2a3f5f"
            },
            "type": "carpet"
           }
          ],
          "choropleth": [
           {
            "colorbar": {
             "outlinewidth": 0,
             "ticks": ""
            },
            "type": "choropleth"
           }
          ],
          "contour": [
           {
            "colorbar": {
             "outlinewidth": 0,
             "ticks": ""
            },
            "colorscale": [
             [
              0,
              "#0d0887"
             ],
             [
              0.1111111111111111,
              "#46039f"
             ],
             [
              0.2222222222222222,
              "#7201a8"
             ],
             [
              0.3333333333333333,
              "#9c179e"
             ],
             [
              0.4444444444444444,
              "#bd3786"
             ],
             [
              0.5555555555555556,
              "#d8576b"
             ],
             [
              0.6666666666666666,
              "#ed7953"
             ],
             [
              0.7777777777777778,
              "#fb9f3a"
             ],
             [
              0.8888888888888888,
              "#fdca26"
             ],
             [
              1,
              "#f0f921"
             ]
            ],
            "type": "contour"
           }
          ],
          "contourcarpet": [
           {
            "colorbar": {
             "outlinewidth": 0,
             "ticks": ""
            },
            "type": "contourcarpet"
           }
          ],
          "heatmap": [
           {
            "colorbar": {
             "outlinewidth": 0,
             "ticks": ""
            },
            "colorscale": [
             [
              0,
              "#0d0887"
             ],
             [
              0.1111111111111111,
              "#46039f"
             ],
             [
              0.2222222222222222,
              "#7201a8"
             ],
             [
              0.3333333333333333,
              "#9c179e"
             ],
             [
              0.4444444444444444,
              "#bd3786"
             ],
             [
              0.5555555555555556,
              "#d8576b"
             ],
             [
              0.6666666666666666,
              "#ed7953"
             ],
             [
              0.7777777777777778,
              "#fb9f3a"
             ],
             [
              0.8888888888888888,
              "#fdca26"
             ],
             [
              1,
              "#f0f921"
             ]
            ],
            "type": "heatmap"
           }
          ],
          "heatmapgl": [
           {
            "colorbar": {
             "outlinewidth": 0,
             "ticks": ""
            },
            "colorscale": [
             [
              0,
              "#0d0887"
             ],
             [
              0.1111111111111111,
              "#46039f"
             ],
             [
              0.2222222222222222,
              "#7201a8"
             ],
             [
              0.3333333333333333,
              "#9c179e"
             ],
             [
              0.4444444444444444,
              "#bd3786"
             ],
             [
              0.5555555555555556,
              "#d8576b"
             ],
             [
              0.6666666666666666,
              "#ed7953"
             ],
             [
              0.7777777777777778,
              "#fb9f3a"
             ],
             [
              0.8888888888888888,
              "#fdca26"
             ],
             [
              1,
              "#f0f921"
             ]
            ],
            "type": "heatmapgl"
           }
          ],
          "histogram": [
           {
            "marker": {
             "pattern": {
              "fillmode": "overlay",
              "size": 10,
              "solidity": 0.2
             }
            },
            "type": "histogram"
           }
          ],
          "histogram2d": [
           {
            "colorbar": {
             "outlinewidth": 0,
             "ticks": ""
            },
            "colorscale": [
             [
              0,
              "#0d0887"
             ],
             [
              0.1111111111111111,
              "#46039f"
             ],
             [
              0.2222222222222222,
              "#7201a8"
             ],
             [
              0.3333333333333333,
              "#9c179e"
             ],
             [
              0.4444444444444444,
              "#bd3786"
             ],
             [
              0.5555555555555556,
              "#d8576b"
             ],
             [
              0.6666666666666666,
              "#ed7953"
             ],
             [
              0.7777777777777778,
              "#fb9f3a"
             ],
             [
              0.8888888888888888,
              "#fdca26"
             ],
             [
              1,
              "#f0f921"
             ]
            ],
            "type": "histogram2d"
           }
          ],
          "histogram2dcontour": [
           {
            "colorbar": {
             "outlinewidth": 0,
             "ticks": ""
            },
            "colorscale": [
             [
              0,
              "#0d0887"
             ],
             [
              0.1111111111111111,
              "#46039f"
             ],
             [
              0.2222222222222222,
              "#7201a8"
             ],
             [
              0.3333333333333333,
              "#9c179e"
             ],
             [
              0.4444444444444444,
              "#bd3786"
             ],
             [
              0.5555555555555556,
              "#d8576b"
             ],
             [
              0.6666666666666666,
              "#ed7953"
             ],
             [
              0.7777777777777778,
              "#fb9f3a"
             ],
             [
              0.8888888888888888,
              "#fdca26"
             ],
             [
              1,
              "#f0f921"
             ]
            ],
            "type": "histogram2dcontour"
           }
          ],
          "mesh3d": [
           {
            "colorbar": {
             "outlinewidth": 0,
             "ticks": ""
            },
            "type": "mesh3d"
           }
          ],
          "parcoords": [
           {
            "line": {
             "colorbar": {
              "outlinewidth": 0,
              "ticks": ""
             }
            },
            "type": "parcoords"
           }
          ],
          "pie": [
           {
            "automargin": true,
            "type": "pie"
           }
          ],
          "scatter": [
           {
            "marker": {
             "colorbar": {
              "outlinewidth": 0,
              "ticks": ""
             }
            },
            "type": "scatter"
           }
          ],
          "scatter3d": [
           {
            "line": {
             "colorbar": {
              "outlinewidth": 0,
              "ticks": ""
             }
            },
            "marker": {
             "colorbar": {
              "outlinewidth": 0,
              "ticks": ""
             }
            },
            "type": "scatter3d"
           }
          ],
          "scattercarpet": [
           {
            "marker": {
             "colorbar": {
              "outlinewidth": 0,
              "ticks": ""
             }
            },
            "type": "scattercarpet"
           }
          ],
          "scattergeo": [
           {
            "marker": {
             "colorbar": {
              "outlinewidth": 0,
              "ticks": ""
             }
            },
            "type": "scattergeo"
           }
          ],
          "scattergl": [
           {
            "marker": {
             "colorbar": {
              "outlinewidth": 0,
              "ticks": ""
             }
            },
            "type": "scattergl"
           }
          ],
          "scattermapbox": [
           {
            "marker": {
             "colorbar": {
              "outlinewidth": 0,
              "ticks": ""
             }
            },
            "type": "scattermapbox"
           }
          ],
          "scatterpolar": [
           {
            "marker": {
             "colorbar": {
              "outlinewidth": 0,
              "ticks": ""
             }
            },
            "type": "scatterpolar"
           }
          ],
          "scatterpolargl": [
           {
            "marker": {
             "colorbar": {
              "outlinewidth": 0,
              "ticks": ""
             }
            },
            "type": "scatterpolargl"
           }
          ],
          "scatterternary": [
           {
            "marker": {
             "colorbar": {
              "outlinewidth": 0,
              "ticks": ""
             }
            },
            "type": "scatterternary"
           }
          ],
          "surface": [
           {
            "colorbar": {
             "outlinewidth": 0,
             "ticks": ""
            },
            "colorscale": [
             [
              0,
              "#0d0887"
             ],
             [
              0.1111111111111111,
              "#46039f"
             ],
             [
              0.2222222222222222,
              "#7201a8"
             ],
             [
              0.3333333333333333,
              "#9c179e"
             ],
             [
              0.4444444444444444,
              "#bd3786"
             ],
             [
              0.5555555555555556,
              "#d8576b"
             ],
             [
              0.6666666666666666,
              "#ed7953"
             ],
             [
              0.7777777777777778,
              "#fb9f3a"
             ],
             [
              0.8888888888888888,
              "#fdca26"
             ],
             [
              1,
              "#f0f921"
             ]
            ],
            "type": "surface"
           }
          ],
          "table": [
           {
            "cells": {
             "fill": {
              "color": "#EBF0F8"
             },
             "line": {
              "color": "white"
             }
            },
            "header": {
             "fill": {
              "color": "#C8D4E3"
             },
             "line": {
              "color": "white"
             }
            },
            "type": "table"
           }
          ]
         },
         "layout": {
          "annotationdefaults": {
           "arrowcolor": "#2a3f5f",
           "arrowhead": 0,
           "arrowwidth": 1
          },
          "autotypenumbers": "strict",
          "coloraxis": {
           "colorbar": {
            "outlinewidth": 0,
            "ticks": ""
           }
          },
          "colorscale": {
           "diverging": [
            [
             0,
             "#8e0152"
            ],
            [
             0.1,
             "#c51b7d"
            ],
            [
             0.2,
             "#de77ae"
            ],
            [
             0.3,
             "#f1b6da"
            ],
            [
             0.4,
             "#fde0ef"
            ],
            [
             0.5,
             "#f7f7f7"
            ],
            [
             0.6,
             "#e6f5d0"
            ],
            [
             0.7,
             "#b8e186"
            ],
            [
             0.8,
             "#7fbc41"
            ],
            [
             0.9,
             "#4d9221"
            ],
            [
             1,
             "#276419"
            ]
           ],
           "sequential": [
            [
             0,
             "#0d0887"
            ],
            [
             0.1111111111111111,
             "#46039f"
            ],
            [
             0.2222222222222222,
             "#7201a8"
            ],
            [
             0.3333333333333333,
             "#9c179e"
            ],
            [
             0.4444444444444444,
             "#bd3786"
            ],
            [
             0.5555555555555556,
             "#d8576b"
            ],
            [
             0.6666666666666666,
             "#ed7953"
            ],
            [
             0.7777777777777778,
             "#fb9f3a"
            ],
            [
             0.8888888888888888,
             "#fdca26"
            ],
            [
             1,
             "#f0f921"
            ]
           ],
           "sequentialminus": [
            [
             0,
             "#0d0887"
            ],
            [
             0.1111111111111111,
             "#46039f"
            ],
            [
             0.2222222222222222,
             "#7201a8"
            ],
            [
             0.3333333333333333,
             "#9c179e"
            ],
            [
             0.4444444444444444,
             "#bd3786"
            ],
            [
             0.5555555555555556,
             "#d8576b"
            ],
            [
             0.6666666666666666,
             "#ed7953"
            ],
            [
             0.7777777777777778,
             "#fb9f3a"
            ],
            [
             0.8888888888888888,
             "#fdca26"
            ],
            [
             1,
             "#f0f921"
            ]
           ]
          },
          "colorway": [
           "#636efa",
           "#EF553B",
           "#00cc96",
           "#ab63fa",
           "#FFA15A",
           "#19d3f3",
           "#FF6692",
           "#B6E880",
           "#FF97FF",
           "#FECB52"
          ],
          "font": {
           "color": "#2a3f5f"
          },
          "geo": {
           "bgcolor": "white",
           "lakecolor": "white",
           "landcolor": "#E5ECF6",
           "showlakes": true,
           "showland": true,
           "subunitcolor": "white"
          },
          "hoverlabel": {
           "align": "left"
          },
          "hovermode": "closest",
          "mapbox": {
           "style": "light"
          },
          "paper_bgcolor": "white",
          "plot_bgcolor": "#E5ECF6",
          "polar": {
           "angularaxis": {
            "gridcolor": "white",
            "linecolor": "white",
            "ticks": ""
           },
           "bgcolor": "#E5ECF6",
           "radialaxis": {
            "gridcolor": "white",
            "linecolor": "white",
            "ticks": ""
           }
          },
          "scene": {
           "xaxis": {
            "backgroundcolor": "#E5ECF6",
            "gridcolor": "white",
            "gridwidth": 2,
            "linecolor": "white",
            "showbackground": true,
            "ticks": "",
            "zerolinecolor": "white"
           },
           "yaxis": {
            "backgroundcolor": "#E5ECF6",
            "gridcolor": "white",
            "gridwidth": 2,
            "linecolor": "white",
            "showbackground": true,
            "ticks": "",
            "zerolinecolor": "white"
           },
           "zaxis": {
            "backgroundcolor": "#E5ECF6",
            "gridcolor": "white",
            "gridwidth": 2,
            "linecolor": "white",
            "showbackground": true,
            "ticks": "",
            "zerolinecolor": "white"
           }
          },
          "shapedefaults": {
           "line": {
            "color": "#2a3f5f"
           }
          },
          "ternary": {
           "aaxis": {
            "gridcolor": "white",
            "linecolor": "white",
            "ticks": ""
           },
           "baxis": {
            "gridcolor": "white",
            "linecolor": "white",
            "ticks": ""
           },
           "bgcolor": "#E5ECF6",
           "caxis": {
            "gridcolor": "white",
            "linecolor": "white",
            "ticks": ""
           }
          },
          "title": {
           "x": 0.05
          },
          "xaxis": {
           "automargin": true,
           "gridcolor": "white",
           "linecolor": "white",
           "ticks": "",
           "title": {
            "standoff": 15
           },
           "zerolinecolor": "white",
           "zerolinewidth": 2
          },
          "yaxis": {
           "automargin": true,
           "gridcolor": "white",
           "linecolor": "white",
           "ticks": "",
           "title": {
            "standoff": 15
           },
           "zerolinecolor": "white",
           "zerolinewidth": 2
          }
         }
        },
        "title": {
         "text": "Categories statistics"
        },
        "width": 1300,
        "xaxis": {
         "anchor": "y",
         "domain": [
          0,
          0.45
         ]
        },
        "xaxis10": {
         "anchor": "y10",
         "domain": [
          0.55,
          1
         ]
        },
        "xaxis11": {
         "anchor": "y11",
         "domain": [
          0,
          0.45
         ]
        },
        "xaxis12": {
         "anchor": "y12",
         "domain": [
          0.55,
          1
         ]
        },
        "xaxis13": {
         "anchor": "y13",
         "domain": [
          0,
          0.45
         ]
        },
        "xaxis14": {
         "anchor": "y14",
         "domain": [
          0.55,
          1
         ]
        },
        "xaxis15": {
         "anchor": "y15",
         "domain": [
          0,
          0.45
         ]
        },
        "xaxis16": {
         "anchor": "y16",
         "domain": [
          0.55,
          1
         ]
        },
        "xaxis17": {
         "anchor": "y17",
         "domain": [
          0,
          0.45
         ]
        },
        "xaxis18": {
         "anchor": "y18",
         "domain": [
          0.55,
          1
         ]
        },
        "xaxis2": {
         "anchor": "y2",
         "domain": [
          0.55,
          1
         ]
        },
        "xaxis3": {
         "anchor": "y3",
         "domain": [
          0,
          0.45
         ]
        },
        "xaxis4": {
         "anchor": "y4",
         "domain": [
          0.55,
          1
         ]
        },
        "xaxis5": {
         "anchor": "y5",
         "domain": [
          0,
          0.45
         ]
        },
        "xaxis6": {
         "anchor": "y6",
         "domain": [
          0.55,
          1
         ]
        },
        "xaxis7": {
         "anchor": "y7",
         "domain": [
          0,
          0.45
         ]
        },
        "xaxis8": {
         "anchor": "y8",
         "domain": [
          0.55,
          1
         ]
        },
        "xaxis9": {
         "anchor": "y9",
         "domain": [
          0,
          0.45
         ]
        },
        "yaxis": {
         "anchor": "x",
         "domain": [
          0.9382716049382716,
          1
         ]
        },
        "yaxis10": {
         "anchor": "x10",
         "domain": [
          0.4691358024691358,
          0.5308641975308642
         ]
        },
        "yaxis11": {
         "anchor": "x11",
         "domain": [
          0.35185185185185186,
          0.41358024691358025
         ]
        },
        "yaxis12": {
         "anchor": "x12",
         "domain": [
          0.35185185185185186,
          0.41358024691358025
         ]
        },
        "yaxis13": {
         "anchor": "x13",
         "domain": [
          0.2345679012345679,
          0.2962962962962963
         ]
        },
        "yaxis14": {
         "anchor": "x14",
         "domain": [
          0.2345679012345679,
          0.2962962962962963
         ]
        },
        "yaxis15": {
         "anchor": "x15",
         "domain": [
          0.11728395061728394,
          0.17901234567901234
         ]
        },
        "yaxis16": {
         "anchor": "x16",
         "domain": [
          0.11728395061728394,
          0.17901234567901234
         ]
        },
        "yaxis17": {
         "anchor": "x17",
         "domain": [
          0,
          0.0617283950617284
         ]
        },
        "yaxis18": {
         "anchor": "x18",
         "domain": [
          0,
          0.0617283950617284
         ]
        },
        "yaxis2": {
         "anchor": "x2",
         "domain": [
          0.9382716049382716,
          1
         ]
        },
        "yaxis3": {
         "anchor": "x3",
         "domain": [
          0.8209876543209876,
          0.8827160493827161
         ]
        },
        "yaxis4": {
         "anchor": "x4",
         "domain": [
          0.8209876543209876,
          0.8827160493827161
         ]
        },
        "yaxis5": {
         "anchor": "x5",
         "domain": [
          0.7037037037037037,
          0.7654320987654322
         ]
        },
        "yaxis6": {
         "anchor": "x6",
         "domain": [
          0.7037037037037037,
          0.7654320987654322
         ]
        },
        "yaxis7": {
         "anchor": "x7",
         "domain": [
          0.5864197530864198,
          0.6481481481481483
         ]
        },
        "yaxis8": {
         "anchor": "x8",
         "domain": [
          0.5864197530864198,
          0.6481481481481483
         ]
        },
        "yaxis9": {
         "anchor": "x9",
         "domain": [
          0.4691358024691358,
          0.5308641975308642
         ]
        }
       }
      }
     },
     "metadata": {},
     "output_type": "display_data"
    }
   ],
   "source": [
    "plot_categories_statistics(categories, dataset_stats)"
   ]
  },
  {
   "cell_type": "code",
   "execution_count": 59,
   "metadata": {},
   "outputs": [
    {
     "data": {
      "application/vnd.plotly.v1+json": {
       "config": {
        "plotlyServerURL": "https://plot.ly"
       },
       "data": [
        {
         "histfunc": "sum",
         "name": "visits",
         "type": "histogram",
         "x": [
          "frontpage",
          "news",
          "tech",
          "local",
          "opinion",
          "on-air",
          "misc",
          "weather",
          "msn-news",
          "health",
          "living",
          "business",
          "msn-sports",
          "sports",
          "summary",
          "bbs",
          "travel"
         ],
         "xaxis": "x",
         "y": [
          940469,
          452387,
          207479,
          386217,
          151409,
          414928,
          305615,
          439398,
          196614,
          131760,
          96817,
          264899,
          216125,
          395880,
          56576,
          25249,
          16972
         ],
         "yaxis": "y"
        },
        {
         "histfunc": "sum",
         "name": "unique_visits",
         "type": "histogram",
         "x": [
          "frontpage",
          "news",
          "tech",
          "local",
          "opinion",
          "on-air",
          "misc",
          "weather",
          "msn-news",
          "health",
          "living",
          "business",
          "msn-sports",
          "sports",
          "summary",
          "bbs",
          "travel"
         ],
         "xaxis": "x2",
         "y": [
          313181,
          175286,
          121948,
          121719,
          24987,
          217101,
          80514,
          95615,
          90192,
          50606,
          57597,
          112183,
          76948,
          119138,
          29200,
          2082,
          11006
         ],
         "yaxis": "y2"
        },
        {
         "histfunc": "sum",
         "name": "refreshes",
         "type": "histogram",
         "x": [
          "frontpage",
          "news",
          "tech",
          "local",
          "opinion",
          "on-air",
          "misc",
          "weather",
          "msn-news",
          "health",
          "living",
          "business",
          "msn-sports",
          "sports",
          "summary",
          "bbs",
          "travel"
         ],
         "xaxis": "x3",
         "y": [
          526123,
          247557,
          80048,
          245416,
          122160,
          173252,
          197506,
          335018,
          95537,
          74147,
          35703,
          141175,
          129522,
          263167,
          22110,
          22510,
          5417
         ],
         "yaxis": "y3"
        },
        {
         "histfunc": "sum",
         "name": "unique_refreshes",
         "type": "histogram",
         "x": [
          "frontpage",
          "news",
          "tech",
          "local",
          "opinion",
          "on-air",
          "misc",
          "weather",
          "msn-news",
          "health",
          "living",
          "business",
          "msn-sports",
          "sports",
          "summary",
          "bbs",
          "travel"
         ],
         "xaxis": "x4",
         "y": [
          183510,
          87452,
          36169,
          58429,
          15213,
          70929,
          58746,
          67143,
          43656,
          21950,
          17398,
          46468,
          47516,
          72063,
          9890,
          1631,
          2925
         ],
         "yaxis": "y4"
        },
        {
         "histfunc": "sum",
         "name": "revisits",
         "type": "histogram",
         "x": [
          "frontpage",
          "news",
          "tech",
          "local",
          "opinion",
          "on-air",
          "misc",
          "weather",
          "msn-news",
          "health",
          "living",
          "business",
          "msn-sports",
          "sports",
          "summary",
          "bbs",
          "travel"
         ],
         "xaxis": "x5",
         "y": [
          208524,
          54761,
          13543,
          39607,
          7435,
          53845,
          47584,
          14548,
          25863,
          13246,
          8680,
          22880,
          20169,
          24150,
          13926,
          1022,
          1510
         ],
         "yaxis": "y5"
        },
        {
         "histfunc": "sum",
         "name": "unique_revisits",
         "type": "histogram",
         "x": [
          "frontpage",
          "news",
          "tech",
          "local",
          "opinion",
          "on-air",
          "misc",
          "weather",
          "msn-news",
          "health",
          "living",
          "business",
          "msn-sports",
          "sports",
          "summary",
          "bbs",
          "travel"
         ],
         "xaxis": "x6",
         "y": [
          106246,
          32303,
          9683,
          22843,
          4453,
          33531,
          28909,
          9319,
          17718,
          7933,
          6149,
          14312,
          14823,
          15525,
          7078,
          419,
          1048
         ],
         "yaxis": "y6"
        },
        {
         "histfunc": "sum",
         "name": "longest_refresh",
         "type": "histogram",
         "x": [
          "frontpage",
          "news",
          "tech",
          "local",
          "opinion",
          "on-air",
          "misc",
          "weather",
          "msn-news",
          "health",
          "living",
          "business",
          "msn-sports",
          "sports",
          "summary",
          "bbs",
          "travel"
         ],
         "xaxis": "x7",
         "y": [
          14794,
          725,
          2057,
          534,
          439,
          1257,
          124,
          218,
          289,
          96,
          78,
          893,
          440,
          310,
          824,
          729,
          19
         ],
         "yaxis": "y7"
        },
        {
         "histfunc": "sum",
         "name": "shortest_refresh",
         "type": "histogram",
         "x": [
          "frontpage",
          "news",
          "tech",
          "local",
          "opinion",
          "on-air",
          "misc",
          "weather",
          "msn-news",
          "health",
          "living",
          "business",
          "msn-sports",
          "sports",
          "summary",
          "bbs",
          "travel"
         ],
         "xaxis": "x8",
         "y": [
          1,
          1,
          1,
          1,
          1,
          1,
          1,
          1,
          1,
          1,
          1,
          1,
          1,
          1,
          1,
          1,
          1
         ],
         "yaxis": "y8"
        },
        {
         "histfunc": "sum",
         "name": "longest_revisit",
         "type": "histogram",
         "x": [
          "frontpage",
          "news",
          "tech",
          "local",
          "opinion",
          "on-air",
          "misc",
          "weather",
          "msn-news",
          "health",
          "living",
          "business",
          "msn-sports",
          "sports",
          "summary",
          "bbs",
          "travel"
         ],
         "xaxis": "x9",
         "y": [
          1783,
          583,
          775,
          1431,
          1102,
          551,
          1431,
          1511,
          2325,
          575,
          776,
          938,
          2098,
          839,
          1822,
          1342,
          2299
         ],
         "yaxis": "y9"
        },
        {
         "histfunc": "sum",
         "name": "shortest_revisit",
         "type": "histogram",
         "x": [
          "frontpage",
          "news",
          "tech",
          "local",
          "opinion",
          "on-air",
          "misc",
          "weather",
          "msn-news",
          "health",
          "living",
          "business",
          "msn-sports",
          "sports",
          "summary",
          "bbs",
          "travel"
         ],
         "xaxis": "x10",
         "y": [
          1,
          1,
          1,
          1,
          1,
          1,
          1,
          1,
          1,
          1,
          1,
          1,
          1,
          1,
          1,
          1,
          1
         ],
         "yaxis": "y10"
        }
       ],
       "layout": {
        "annotations": [
         {
          "font": {
           "size": 16
          },
          "showarrow": false,
          "text": "visits",
          "x": 0.5,
          "xanchor": "center",
          "xref": "paper",
          "y": 1,
          "yanchor": "bottom",
          "yref": "paper"
         },
         {
          "font": {
           "size": 16
          },
          "showarrow": false,
          "text": "unique_visits",
          "x": 0.5,
          "xanchor": "center",
          "xref": "paper",
          "y": 0.8950000000000001,
          "yanchor": "bottom",
          "yref": "paper"
         },
         {
          "font": {
           "size": 16
          },
          "showarrow": false,
          "text": "refreshes",
          "x": 0.5,
          "xanchor": "center",
          "xref": "paper",
          "y": 0.7900000000000001,
          "yanchor": "bottom",
          "yref": "paper"
         },
         {
          "font": {
           "size": 16
          },
          "showarrow": false,
          "text": "unique_refreshes",
          "x": 0.5,
          "xanchor": "center",
          "xref": "paper",
          "y": 0.6850000000000002,
          "yanchor": "bottom",
          "yref": "paper"
         },
         {
          "font": {
           "size": 16
          },
          "showarrow": false,
          "text": "revisits",
          "x": 0.5,
          "xanchor": "center",
          "xref": "paper",
          "y": 0.5800000000000001,
          "yanchor": "bottom",
          "yref": "paper"
         },
         {
          "font": {
           "size": 16
          },
          "showarrow": false,
          "text": "unique_revisits",
          "x": 0.5,
          "xanchor": "center",
          "xref": "paper",
          "y": 0.47500000000000003,
          "yanchor": "bottom",
          "yref": "paper"
         },
         {
          "font": {
           "size": 16
          },
          "showarrow": false,
          "text": "longest_refresh",
          "x": 0.5,
          "xanchor": "center",
          "xref": "paper",
          "y": 0.37000000000000005,
          "yanchor": "bottom",
          "yref": "paper"
         },
         {
          "font": {
           "size": 16
          },
          "showarrow": false,
          "text": "shortest_refresh",
          "x": 0.5,
          "xanchor": "center",
          "xref": "paper",
          "y": 0.265,
          "yanchor": "bottom",
          "yref": "paper"
         },
         {
          "font": {
           "size": 16
          },
          "showarrow": false,
          "text": "longest_revisit",
          "x": 0.5,
          "xanchor": "center",
          "xref": "paper",
          "y": 0.16000000000000003,
          "yanchor": "bottom",
          "yref": "paper"
         },
         {
          "font": {
           "size": 16
          },
          "showarrow": false,
          "text": "shortest_revisit",
          "x": 0.5,
          "xanchor": "center",
          "xref": "paper",
          "y": 0.05500000000000001,
          "yanchor": "bottom",
          "yref": "paper"
         }
        ],
        "bargap": 0.1,
        "height": 3000,
        "template": {
         "data": {
          "bar": [
           {
            "error_x": {
             "color": "#2a3f5f"
            },
            "error_y": {
             "color": "#2a3f5f"
            },
            "marker": {
             "line": {
              "color": "#E5ECF6",
              "width": 0.5
             },
             "pattern": {
              "fillmode": "overlay",
              "size": 10,
              "solidity": 0.2
             }
            },
            "type": "bar"
           }
          ],
          "barpolar": [
           {
            "marker": {
             "line": {
              "color": "#E5ECF6",
              "width": 0.5
             },
             "pattern": {
              "fillmode": "overlay",
              "size": 10,
              "solidity": 0.2
             }
            },
            "type": "barpolar"
           }
          ],
          "carpet": [
           {
            "aaxis": {
             "endlinecolor": "#2a3f5f",
             "gridcolor": "white",
             "linecolor": "white",
             "minorgridcolor": "white",
             "startlinecolor": "#2a3f5f"
            },
            "baxis": {
             "endlinecolor": "#2a3f5f",
             "gridcolor": "white",
             "linecolor": "white",
             "minorgridcolor": "white",
             "startlinecolor": "#2a3f5f"
            },
            "type": "carpet"
           }
          ],
          "choropleth": [
           {
            "colorbar": {
             "outlinewidth": 0,
             "ticks": ""
            },
            "type": "choropleth"
           }
          ],
          "contour": [
           {
            "colorbar": {
             "outlinewidth": 0,
             "ticks": ""
            },
            "colorscale": [
             [
              0,
              "#0d0887"
             ],
             [
              0.1111111111111111,
              "#46039f"
             ],
             [
              0.2222222222222222,
              "#7201a8"
             ],
             [
              0.3333333333333333,
              "#9c179e"
             ],
             [
              0.4444444444444444,
              "#bd3786"
             ],
             [
              0.5555555555555556,
              "#d8576b"
             ],
             [
              0.6666666666666666,
              "#ed7953"
             ],
             [
              0.7777777777777778,
              "#fb9f3a"
             ],
             [
              0.8888888888888888,
              "#fdca26"
             ],
             [
              1,
              "#f0f921"
             ]
            ],
            "type": "contour"
           }
          ],
          "contourcarpet": [
           {
            "colorbar": {
             "outlinewidth": 0,
             "ticks": ""
            },
            "type": "contourcarpet"
           }
          ],
          "heatmap": [
           {
            "colorbar": {
             "outlinewidth": 0,
             "ticks": ""
            },
            "colorscale": [
             [
              0,
              "#0d0887"
             ],
             [
              0.1111111111111111,
              "#46039f"
             ],
             [
              0.2222222222222222,
              "#7201a8"
             ],
             [
              0.3333333333333333,
              "#9c179e"
             ],
             [
              0.4444444444444444,
              "#bd3786"
             ],
             [
              0.5555555555555556,
              "#d8576b"
             ],
             [
              0.6666666666666666,
              "#ed7953"
             ],
             [
              0.7777777777777778,
              "#fb9f3a"
             ],
             [
              0.8888888888888888,
              "#fdca26"
             ],
             [
              1,
              "#f0f921"
             ]
            ],
            "type": "heatmap"
           }
          ],
          "heatmapgl": [
           {
            "colorbar": {
             "outlinewidth": 0,
             "ticks": ""
            },
            "colorscale": [
             [
              0,
              "#0d0887"
             ],
             [
              0.1111111111111111,
              "#46039f"
             ],
             [
              0.2222222222222222,
              "#7201a8"
             ],
             [
              0.3333333333333333,
              "#9c179e"
             ],
             [
              0.4444444444444444,
              "#bd3786"
             ],
             [
              0.5555555555555556,
              "#d8576b"
             ],
             [
              0.6666666666666666,
              "#ed7953"
             ],
             [
              0.7777777777777778,
              "#fb9f3a"
             ],
             [
              0.8888888888888888,
              "#fdca26"
             ],
             [
              1,
              "#f0f921"
             ]
            ],
            "type": "heatmapgl"
           }
          ],
          "histogram": [
           {
            "marker": {
             "pattern": {
              "fillmode": "overlay",
              "size": 10,
              "solidity": 0.2
             }
            },
            "type": "histogram"
           }
          ],
          "histogram2d": [
           {
            "colorbar": {
             "outlinewidth": 0,
             "ticks": ""
            },
            "colorscale": [
             [
              0,
              "#0d0887"
             ],
             [
              0.1111111111111111,
              "#46039f"
             ],
             [
              0.2222222222222222,
              "#7201a8"
             ],
             [
              0.3333333333333333,
              "#9c179e"
             ],
             [
              0.4444444444444444,
              "#bd3786"
             ],
             [
              0.5555555555555556,
              "#d8576b"
             ],
             [
              0.6666666666666666,
              "#ed7953"
             ],
             [
              0.7777777777777778,
              "#fb9f3a"
             ],
             [
              0.8888888888888888,
              "#fdca26"
             ],
             [
              1,
              "#f0f921"
             ]
            ],
            "type": "histogram2d"
           }
          ],
          "histogram2dcontour": [
           {
            "colorbar": {
             "outlinewidth": 0,
             "ticks": ""
            },
            "colorscale": [
             [
              0,
              "#0d0887"
             ],
             [
              0.1111111111111111,
              "#46039f"
             ],
             [
              0.2222222222222222,
              "#7201a8"
             ],
             [
              0.3333333333333333,
              "#9c179e"
             ],
             [
              0.4444444444444444,
              "#bd3786"
             ],
             [
              0.5555555555555556,
              "#d8576b"
             ],
             [
              0.6666666666666666,
              "#ed7953"
             ],
             [
              0.7777777777777778,
              "#fb9f3a"
             ],
             [
              0.8888888888888888,
              "#fdca26"
             ],
             [
              1,
              "#f0f921"
             ]
            ],
            "type": "histogram2dcontour"
           }
          ],
          "mesh3d": [
           {
            "colorbar": {
             "outlinewidth": 0,
             "ticks": ""
            },
            "type": "mesh3d"
           }
          ],
          "parcoords": [
           {
            "line": {
             "colorbar": {
              "outlinewidth": 0,
              "ticks": ""
             }
            },
            "type": "parcoords"
           }
          ],
          "pie": [
           {
            "automargin": true,
            "type": "pie"
           }
          ],
          "scatter": [
           {
            "marker": {
             "colorbar": {
              "outlinewidth": 0,
              "ticks": ""
             }
            },
            "type": "scatter"
           }
          ],
          "scatter3d": [
           {
            "line": {
             "colorbar": {
              "outlinewidth": 0,
              "ticks": ""
             }
            },
            "marker": {
             "colorbar": {
              "outlinewidth": 0,
              "ticks": ""
             }
            },
            "type": "scatter3d"
           }
          ],
          "scattercarpet": [
           {
            "marker": {
             "colorbar": {
              "outlinewidth": 0,
              "ticks": ""
             }
            },
            "type": "scattercarpet"
           }
          ],
          "scattergeo": [
           {
            "marker": {
             "colorbar": {
              "outlinewidth": 0,
              "ticks": ""
             }
            },
            "type": "scattergeo"
           }
          ],
          "scattergl": [
           {
            "marker": {
             "colorbar": {
              "outlinewidth": 0,
              "ticks": ""
             }
            },
            "type": "scattergl"
           }
          ],
          "scattermapbox": [
           {
            "marker": {
             "colorbar": {
              "outlinewidth": 0,
              "ticks": ""
             }
            },
            "type": "scattermapbox"
           }
          ],
          "scatterpolar": [
           {
            "marker": {
             "colorbar": {
              "outlinewidth": 0,
              "ticks": ""
             }
            },
            "type": "scatterpolar"
           }
          ],
          "scatterpolargl": [
           {
            "marker": {
             "colorbar": {
              "outlinewidth": 0,
              "ticks": ""
             }
            },
            "type": "scatterpolargl"
           }
          ],
          "scatterternary": [
           {
            "marker": {
             "colorbar": {
              "outlinewidth": 0,
              "ticks": ""
             }
            },
            "type": "scatterternary"
           }
          ],
          "surface": [
           {
            "colorbar": {
             "outlinewidth": 0,
             "ticks": ""
            },
            "colorscale": [
             [
              0,
              "#0d0887"
             ],
             [
              0.1111111111111111,
              "#46039f"
             ],
             [
              0.2222222222222222,
              "#7201a8"
             ],
             [
              0.3333333333333333,
              "#9c179e"
             ],
             [
              0.4444444444444444,
              "#bd3786"
             ],
             [
              0.5555555555555556,
              "#d8576b"
             ],
             [
              0.6666666666666666,
              "#ed7953"
             ],
             [
              0.7777777777777778,
              "#fb9f3a"
             ],
             [
              0.8888888888888888,
              "#fdca26"
             ],
             [
              1,
              "#f0f921"
             ]
            ],
            "type": "surface"
           }
          ],
          "table": [
           {
            "cells": {
             "fill": {
              "color": "#EBF0F8"
             },
             "line": {
              "color": "white"
             }
            },
            "header": {
             "fill": {
              "color": "#C8D4E3"
             },
             "line": {
              "color": "white"
             }
            },
            "type": "table"
           }
          ]
         },
         "layout": {
          "annotationdefaults": {
           "arrowcolor": "#2a3f5f",
           "arrowhead": 0,
           "arrowwidth": 1
          },
          "autotypenumbers": "strict",
          "coloraxis": {
           "colorbar": {
            "outlinewidth": 0,
            "ticks": ""
           }
          },
          "colorscale": {
           "diverging": [
            [
             0,
             "#8e0152"
            ],
            [
             0.1,
             "#c51b7d"
            ],
            [
             0.2,
             "#de77ae"
            ],
            [
             0.3,
             "#f1b6da"
            ],
            [
             0.4,
             "#fde0ef"
            ],
            [
             0.5,
             "#f7f7f7"
            ],
            [
             0.6,
             "#e6f5d0"
            ],
            [
             0.7,
             "#b8e186"
            ],
            [
             0.8,
             "#7fbc41"
            ],
            [
             0.9,
             "#4d9221"
            ],
            [
             1,
             "#276419"
            ]
           ],
           "sequential": [
            [
             0,
             "#0d0887"
            ],
            [
             0.1111111111111111,
             "#46039f"
            ],
            [
             0.2222222222222222,
             "#7201a8"
            ],
            [
             0.3333333333333333,
             "#9c179e"
            ],
            [
             0.4444444444444444,
             "#bd3786"
            ],
            [
             0.5555555555555556,
             "#d8576b"
            ],
            [
             0.6666666666666666,
             "#ed7953"
            ],
            [
             0.7777777777777778,
             "#fb9f3a"
            ],
            [
             0.8888888888888888,
             "#fdca26"
            ],
            [
             1,
             "#f0f921"
            ]
           ],
           "sequentialminus": [
            [
             0,
             "#0d0887"
            ],
            [
             0.1111111111111111,
             "#46039f"
            ],
            [
             0.2222222222222222,
             "#7201a8"
            ],
            [
             0.3333333333333333,
             "#9c179e"
            ],
            [
             0.4444444444444444,
             "#bd3786"
            ],
            [
             0.5555555555555556,
             "#d8576b"
            ],
            [
             0.6666666666666666,
             "#ed7953"
            ],
            [
             0.7777777777777778,
             "#fb9f3a"
            ],
            [
             0.8888888888888888,
             "#fdca26"
            ],
            [
             1,
             "#f0f921"
            ]
           ]
          },
          "colorway": [
           "#636efa",
           "#EF553B",
           "#00cc96",
           "#ab63fa",
           "#FFA15A",
           "#19d3f3",
           "#FF6692",
           "#B6E880",
           "#FF97FF",
           "#FECB52"
          ],
          "font": {
           "color": "#2a3f5f"
          },
          "geo": {
           "bgcolor": "white",
           "lakecolor": "white",
           "landcolor": "#E5ECF6",
           "showlakes": true,
           "showland": true,
           "subunitcolor": "white"
          },
          "hoverlabel": {
           "align": "left"
          },
          "hovermode": "closest",
          "mapbox": {
           "style": "light"
          },
          "paper_bgcolor": "white",
          "plot_bgcolor": "#E5ECF6",
          "polar": {
           "angularaxis": {
            "gridcolor": "white",
            "linecolor": "white",
            "ticks": ""
           },
           "bgcolor": "#E5ECF6",
           "radialaxis": {
            "gridcolor": "white",
            "linecolor": "white",
            "ticks": ""
           }
          },
          "scene": {
           "xaxis": {
            "backgroundcolor": "#E5ECF6",
            "gridcolor": "white",
            "gridwidth": 2,
            "linecolor": "white",
            "showbackground": true,
            "ticks": "",
            "zerolinecolor": "white"
           },
           "yaxis": {
            "backgroundcolor": "#E5ECF6",
            "gridcolor": "white",
            "gridwidth": 2,
            "linecolor": "white",
            "showbackground": true,
            "ticks": "",
            "zerolinecolor": "white"
           },
           "zaxis": {
            "backgroundcolor": "#E5ECF6",
            "gridcolor": "white",
            "gridwidth": 2,
            "linecolor": "white",
            "showbackground": true,
            "ticks": "",
            "zerolinecolor": "white"
           }
          },
          "shapedefaults": {
           "line": {
            "color": "#2a3f5f"
           }
          },
          "ternary": {
           "aaxis": {
            "gridcolor": "white",
            "linecolor": "white",
            "ticks": ""
           },
           "baxis": {
            "gridcolor": "white",
            "linecolor": "white",
            "ticks": ""
           },
           "bgcolor": "#E5ECF6",
           "caxis": {
            "gridcolor": "white",
            "linecolor": "white",
            "ticks": ""
           }
          },
          "title": {
           "x": 0.05
          },
          "xaxis": {
           "automargin": true,
           "gridcolor": "white",
           "linecolor": "white",
           "ticks": "",
           "title": {
            "standoff": 15
           },
           "zerolinecolor": "white",
           "zerolinewidth": 2
          },
          "yaxis": {
           "automargin": true,
           "gridcolor": "white",
           "linecolor": "white",
           "ticks": "",
           "title": {
            "standoff": 15
           },
           "zerolinecolor": "white",
           "zerolinewidth": 2
          }
         }
        },
        "title": {
         "text": "Statistics categories"
        },
        "width": 1200,
        "xaxis": {
         "anchor": "y",
         "domain": [
          0,
          1
         ]
        },
        "xaxis10": {
         "anchor": "y10",
         "domain": [
          0,
          1
         ]
        },
        "xaxis2": {
         "anchor": "y2",
         "domain": [
          0,
          1
         ]
        },
        "xaxis3": {
         "anchor": "y3",
         "domain": [
          0,
          1
         ]
        },
        "xaxis4": {
         "anchor": "y4",
         "domain": [
          0,
          1
         ]
        },
        "xaxis5": {
         "anchor": "y5",
         "domain": [
          0,
          1
         ]
        },
        "xaxis6": {
         "anchor": "y6",
         "domain": [
          0,
          1
         ]
        },
        "xaxis7": {
         "anchor": "y7",
         "domain": [
          0,
          1
         ]
        },
        "xaxis8": {
         "anchor": "y8",
         "domain": [
          0,
          1
         ]
        },
        "xaxis9": {
         "anchor": "y9",
         "domain": [
          0,
          1
         ]
        },
        "yaxis": {
         "anchor": "x",
         "domain": [
          0.9450000000000001,
          1
         ]
        },
        "yaxis10": {
         "anchor": "x10",
         "domain": [
          0,
          0.05500000000000001
         ]
        },
        "yaxis2": {
         "anchor": "x2",
         "domain": [
          0.8400000000000001,
          0.8950000000000001
         ]
        },
        "yaxis3": {
         "anchor": "x3",
         "domain": [
          0.7350000000000001,
          0.7900000000000001
         ]
        },
        "yaxis4": {
         "anchor": "x4",
         "domain": [
          0.6300000000000001,
          0.6850000000000002
         ]
        },
        "yaxis5": {
         "anchor": "x5",
         "domain": [
          0.525,
          0.5800000000000001
         ]
        },
        "yaxis6": {
         "anchor": "x6",
         "domain": [
          0.42000000000000004,
          0.47500000000000003
         ]
        },
        "yaxis7": {
         "anchor": "x7",
         "domain": [
          0.31500000000000006,
          0.37000000000000005
         ]
        },
        "yaxis8": {
         "anchor": "x8",
         "domain": [
          0.21000000000000002,
          0.265
         ]
        },
        "yaxis9": {
         "anchor": "x9",
         "domain": [
          0.10500000000000001,
          0.16000000000000003
         ]
        }
       }
      }
     },
     "metadata": {},
     "output_type": "display_data"
    }
   ],
   "source": [
    "plot_statistics_categories(categories, dataset_stats)"
   ]
  }
 ],
 "metadata": {
  "kernelspec": {
   "display_name": "Python 3.10.0 64-bit",
   "language": "python",
   "name": "python3"
  },
  "language_info": {
   "codemirror_mode": {
    "name": "ipython",
    "version": 3
   },
   "file_extension": ".py",
   "mimetype": "text/x-python",
   "name": "python",
   "nbconvert_exporter": "python",
   "pygments_lexer": "ipython3",
   "version": "3.10.0"
  },
  "orig_nbformat": 4,
  "vscode": {
   "interpreter": {
    "hash": "b7b46b867890f504ffb44f0b1121aba21fe0053c48c7ec546cc86a7fedb889be"
   }
  }
 },
 "nbformat": 4,
 "nbformat_minor": 2
}
