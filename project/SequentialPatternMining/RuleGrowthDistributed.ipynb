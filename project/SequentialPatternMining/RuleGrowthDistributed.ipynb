{
 "cells": [
  {
   "cell_type": "code",
   "execution_count": null,
   "id": "50748985-76bc-45b4-a0e0-0c09a5def870",
   "metadata": {},
   "outputs": [],
   "source": []
  },
  {
   "cell_type": "code",
   "execution_count": 68,
   "id": "a6bea81e-4efd-4010-89c8-48e2a7d6d7db",
   "metadata": {},
   "outputs": [],
   "source": [
    "data = sc.textFile('../../data/msnbc/data_sample.csv') \\\n",
    "         .map(lambda line: list(map(int,line.split(',')))) \\\n",
    "         .zipWithIndex() \\\n",
    "         .map(lambda x: (x[1], x[0]))"
   ]
  },
  {
   "cell_type": "code",
   "execution_count": 69,
   "id": "f98767fa-db11-4355-b632-0a78ffec9d9e",
   "metadata": {},
   "outputs": [],
   "source": [
    "dataset = sc.broadcast(data.collect())"
   ]
  },
  {
   "cell_type": "code",
   "execution_count": 70,
   "id": "dcdcd085-af02-4e91-844e-e1542b6edabf",
   "metadata": {},
   "outputs": [
    {
     "data": {
      "text/plain": [
       "(498, [1, 10, 4])"
      ]
     },
     "execution_count": 70,
     "metadata": {},
     "output_type": "execute_result"
    }
   ],
   "source": [
    "dataset.value[498]"
   ]
  },
  {
   "cell_type": "code",
   "execution_count": null,
   "id": "2bddb633-5775-4573-9587-68b7debecfce",
   "metadata": {},
   "outputs": [],
   "source": []
  },
  {
   "cell_type": "code",
   "execution_count": null,
   "id": "1cdb6dbd-4fb4-4b94-975e-d3f4b2c99955",
   "metadata": {},
   "outputs": [],
   "source": []
  },
  {
   "cell_type": "markdown",
   "id": "45a48a65-df3b-4ef5-ab42-1a5eca6b4bdc",
   "metadata": {},
   "source": [
    "## getMinSupItems"
   ]
  },
  {
   "cell_type": "markdown",
   "id": "d5de7553-8a80-41ad-b6dc-13200ad095c9",
   "metadata": {},
   "source": [
    "### itemlocmap"
   ]
  },
  {
   "cell_type": "code",
   "execution_count": 132,
   "id": "0f79cd59-0cdf-4210-8803-4e4e0382a622",
   "metadata": {},
   "outputs": [],
   "source": [
    "def get_indices_for(x):\n",
    "    key = x[0]\n",
    "    seq_id = x[1]\n",
    "    id, seq = dataset.value[seq_id]\n",
    "    indices = list()\n",
    "    for idx in range(len(seq)):\n",
    "        if seq[idx] == key:\n",
    "            indices.append(idx)\n",
    "    return key, seq_id, indices"
   ]
  },
  {
   "cell_type": "code",
   "execution_count": 133,
   "id": "70141c19-c92e-4c21-946d-e28f9ad18296",
   "metadata": {},
   "outputs": [],
   "source": [
    "def get_first_last_index(x):\n",
    "    key = x[0]\n",
    "    seq_id = x[1]\n",
    "    indices = x[2]\n",
    "    return key, (seq_id, indices[0], indices[-1])"
   ]
  },
  {
   "cell_type": "code",
   "execution_count": 148,
   "id": "f6b1e643-586a-4895-9727-bf02cde19f8d",
   "metadata": {},
   "outputs": [],
   "source": [
    "def get_freq(x):\n",
    "    key = x[0]\n",
    "    sequences = x[1]\n",
    "    freq = len(sequences)\n",
    "    return key, freq, sequences"
   ]
  },
  {
   "cell_type": "code",
   "execution_count": 149,
   "id": "a8f5ab58-20ae-46e9-9dd7-458beef5a4fd",
   "metadata": {},
   "outputs": [],
   "source": [
    "itemlocmap = data.map(lambda x: (x[0], set(x[1])))  \\\n",
    "        .flatMapValues(lambda x:x) \\\n",
    "        .map(lambda x: (x[1], x[0])) \\\n",
    "        .map(lambda x: get_indices_for(x)) \\\n",
    "        .map(lambda x: get_first_last_index(x)) \\\n",
    "        .groupByKey() \\\n",
    "        .mapValues(list) \\\n",
    "        .map(lambda x: get_freq(x))"
   ]
  },
  {
   "cell_type": "code",
   "execution_count": 150,
   "id": "eeb6658d-865b-45bc-8372-3302f52b628e",
   "metadata": {},
   "outputs": [],
   "source": [
    "result = itemlocmap.collect()"
   ]
  },
  {
   "cell_type": "markdown",
   "id": "ede3d59f-8649-471c-9d94-b8a081a4abab",
   "metadata": {},
   "source": [
    "### above_threshold"
   ]
  },
  {
   "cell_type": "code",
   "execution_count": 187,
   "id": "4a9fd58c-78d1-42de-aba5-d7e22cae2a14",
   "metadata": {},
   "outputs": [],
   "source": [
    "THRESHOLD = 50"
   ]
  },
  {
   "cell_type": "code",
   "execution_count": 188,
   "id": "305e52c4-5e2d-4507-9dfc-77918ae1a551",
   "metadata": {},
   "outputs": [],
   "source": [
    "def above_threshold_filter(x, threshold=THRESHOLD):\n",
    "    return x[1] > threshold"
   ]
  },
  {
   "cell_type": "code",
   "execution_count": 189,
   "id": "47def428-2ede-41a3-916d-16e984448ae9",
   "metadata": {},
   "outputs": [],
   "source": [
    "above_threshold = itemlocmap.filter(lambda x: above_threshold_filter(x, THRESHOLD))"
   ]
  },
  {
   "cell_type": "code",
   "execution_count": 190,
   "id": "de997a7a-4a1c-4897-aa14-e9542bf780c0",
   "metadata": {},
   "outputs": [],
   "source": [
    "items = sc.broadcast(above_threshold.collect())"
   ]
  },
  {
   "cell_type": "code",
   "execution_count": 191,
   "id": "00212fca-0cc0-4c78-b1e8-bd468ad5f13d",
   "metadata": {},
   "outputs": [],
   "source": [
    "result = above_threshold.collect()"
   ]
  },
  {
   "cell_type": "code",
   "execution_count": 414,
   "id": "d201871d-c86d-49b1-a823-7513ad34e72b",
   "metadata": {
    "tags": []
   },
   "outputs": [],
   "source": [
    "# result[0]"
   ]
  },
  {
   "cell_type": "markdown",
   "id": "df7b30ab-6ae3-4b97-b85a-9ed52d49e30f",
   "metadata": {},
   "source": [
    "## genRules"
   ]
  },
  {
   "cell_type": "code",
   "execution_count": 218,
   "id": "74bd2b2b-aaa7-4708-95e5-079a07410b09",
   "metadata": {},
   "outputs": [],
   "source": [
    "items_ids = above_threshold.map(lambda x: x[0]) \\\n",
    "                           .zipWithIndex()\n",
    "                           "
   ]
  },
  {
   "cell_type": "code",
   "execution_count": 219,
   "id": "57fd165a-77f8-49ce-8776-a917efb2442e",
   "metadata": {},
   "outputs": [],
   "source": [
    "count_items = items_ids.count()"
   ]
  },
  {
   "cell_type": "code",
   "execution_count": 220,
   "id": "cc8277f0-8dc0-4a52-aafe-76e7d274cb4a",
   "metadata": {},
   "outputs": [],
   "source": [
    "result = items_ids.collect()"
   ]
  },
  {
   "cell_type": "code",
   "execution_count": 221,
   "id": "8da5b24b-9e69-42a0-908e-013bde9f8d13",
   "metadata": {},
   "outputs": [
    {
     "data": {
      "text/plain": [
       "[(2, 0), (4, 1), (6, 2), (8, 3), (12, 4), (14, 5), (1, 6), (3, 7), (9, 8)]"
      ]
     },
     "execution_count": 221,
     "metadata": {},
     "output_type": "execute_result"
    }
   ],
   "source": [
    "result"
   ]
  },
  {
   "cell_type": "markdown",
   "id": "cd44b333-7816-4b97-a62b-ed81d0eed369",
   "metadata": {},
   "source": [
    "### Join"
   ]
  },
  {
   "cell_type": "code",
   "execution_count": 284,
   "id": "53da82e7-c274-48cf-9932-49002f41dd9e",
   "metadata": {},
   "outputs": [],
   "source": [
    "def prepare_join(x, count):\n",
    "    return x, list(range(x[1] + 1, count))"
   ]
  },
  {
   "cell_type": "code",
   "execution_count": 286,
   "id": "a1f9e1f6-5406-4638-b806-91da332b3b47",
   "metadata": {},
   "outputs": [],
   "source": [
    "items_join = items_ids.map(lambda x: prepare_join(x, count_items)) \\\n",
    "                      .flatMapValues(lambda x:x) \\\n",
    "                      .map(lambda x: (x[0][1], x[1])) \n"
   ]
  },
  {
   "cell_type": "code",
   "execution_count": 287,
   "id": "4c0c4bb9-0a9c-422d-9831-d7948df131dc",
   "metadata": {},
   "outputs": [
    {
     "data": {
      "text/plain": [
       "[(0, 1), (0, 2), (0, 3), (0, 4), (0, 5)]"
      ]
     },
     "execution_count": 287,
     "metadata": {},
     "output_type": "execute_result"
    }
   ],
   "source": [
    "result = items_join.collect()\n",
    "result[:5]"
   ]
  },
  {
   "cell_type": "markdown",
   "id": "ba02cf75-24a0-4062-b085-9c5c3f1bba37",
   "metadata": {},
   "source": [
    "### I => J combination with no repeats"
   ]
  },
  {
   "cell_type": "code",
   "execution_count": 295,
   "id": "195d3a83-624d-43c7-8fd5-f33fef59b128",
   "metadata": {},
   "outputs": [],
   "source": [
    "def prepare_common_sequences(x):\n",
    "    i = x[0]\n",
    "    j = x[1]\n",
    "    itemI, itemJ = items.value[i], items.value[j]\n",
    "    occurancesI, occurancesJ = itemI[2], itemJ[2]\n",
    "    \n",
    "    allseqboth = []\n",
    "    \n",
    "    for seq_idI, firstI, lastI in occurancesI:\n",
    "        for seq_idJ, firstJ, lastJ in occurancesJ:\n",
    "            if seq_idI == seq_idJ:\n",
    "                allseqboth.append((seq_idI, (firstI, lastI), (firstJ, lastJ)))\n",
    "    \n",
    "    return x, allseqboth"
   ]
  },
  {
   "cell_type": "code",
   "execution_count": 316,
   "id": "a76714d6-eaa1-4f51-9eea-6e9037cbef3d",
   "metadata": {},
   "outputs": [],
   "source": [
    "def count_IJ_JI_rules(x):\n",
    "    key = x[0]\n",
    "    seq_id, itemI, itemJ = x[1]\n",
    "    \n",
    "    IJ = []\n",
    "    JI = []\n",
    "    if itemI[0] < itemJ[1]:\n",
    "        IJ.append(seq_id)\n",
    "    if itemJ[0] < itemI[1]:\n",
    "        JI.append(seq_id)\n",
    "        \n",
    "    return key, [IJ, JI]"
   ]
  },
  {
   "cell_type": "code",
   "execution_count": 317,
   "id": "233a775e-49a4-42fd-b8e1-0eff1d5df2a2",
   "metadata": {},
   "outputs": [],
   "source": [
    "def group_IJ_JI_rules(a, b):\n",
    "    a[0] += b[0]\n",
    "    a[1] += b[1]\n",
    "    return a"
   ]
  },
  {
   "cell_type": "code",
   "execution_count": 342,
   "id": "3c274674-eb73-493d-a986-a652fa659b7a",
   "metadata": {},
   "outputs": [],
   "source": [
    "def add_index_info(x):\n",
    "    key = x[0]\n",
    "    valuesI, valuesJ = x[1]\n",
    "    return key, ((valuesI, key), (valuesJ, tuple(reversed(key))))"
   ]
  },
  {
   "cell_type": "code",
   "execution_count": 343,
   "id": "7669309f-75c7-4b8d-a0b9-52fb3ef28fdf",
   "metadata": {},
   "outputs": [],
   "source": [
    "reduced_IJ_JI = items_join.map(lambda x: prepare_common_sequences(x)) \\\n",
    "                    .flatMapValues(lambda x:x) \\\n",
    "                    .map(lambda x: count_IJ_JI_rules(x)) \\\n",
    "                    .reduceByKey(group_IJ_JI_rules) \\\n",
    "                    .map(lambda x: add_index_info(x)) \n"
   ]
  },
  {
   "cell_type": "code",
   "execution_count": 344,
   "id": "4f8d209b-9d21-4c16-bbf9-9d5d07714738",
   "metadata": {},
   "outputs": [
    {
     "data": {
      "text/plain": [
       "[((0, 2),\n",
       "  (([24, 77, 147, 153, 157, 180, 189, 230, 260, 308, 323, 339, 349, 355, 493],\n",
       "    (0, 2)),\n",
       "   ([136, 157, 180, 185, 189, 230, 260, 319, 320, 323, 349, 355, 385],\n",
       "    (2, 0)))),\n",
       " ((0, 4),\n",
       "  (([63, 106, 157, 177, 180, 260, 319, 324, 339, 349, 402], (0, 4)),\n",
       "   ([80, 116, 157, 180, 260, 319, 340, 349], (4, 0))))]"
      ]
     },
     "execution_count": 344,
     "metadata": {},
     "output_type": "execute_result"
    }
   ],
   "source": [
    "result = reduced_IJ_JI.collect()\n",
    "result[:2]"
   ]
  },
  {
   "cell_type": "markdown",
   "id": "34357e1b-eb8f-4331-90a7-f1855d9a4d09",
   "metadata": {},
   "source": [
    "### Accumulate rules"
   ]
  },
  {
   "cell_type": "code",
   "execution_count": 388,
   "id": "69283b16-3674-406e-baef-cf68e5809576",
   "metadata": {},
   "outputs": [],
   "source": [
    "MIN_SUP_REL = 0.01 * len(dataset.value)\n",
    "MIN_CONF = 0.1"
   ]
  },
  {
   "cell_type": "code",
   "execution_count": 389,
   "id": "2a4dd7eb-0a42-4235-9fe3-ad2ab28bef1f",
   "metadata": {},
   "outputs": [],
   "source": [
    "def get_freq(x):\n",
    "    key = x[0]\n",
    "    values = x[1]\n",
    "    frequencies = len(values)\n",
    "    return key, (values, frequencies)\n",
    "\n",
    "def is_above_minsup_relative(x, minsup_relative):\n",
    "    return x[1][1] > minsup_relative "
   ]
  },
  {
   "cell_type": "code",
   "execution_count": 390,
   "id": "aa73d1d8-6979-467a-87c2-2d42ac9f9b0b",
   "metadata": {},
   "outputs": [],
   "source": [
    "def generate_rule_and_expands(x, min_conf=MIN_CONF):\n",
    "    i, j = x[0]\n",
    "    allseqIJ, length = x[1]\n",
    "    itemI, itemJ = items.value[i], items.value[j]\n",
    "    occurancesI, occurancesJ = itemI[2], itemJ[2]\n",
    "    \n",
    "    confIJ = length / len(occurancesI)\n",
    "    \n",
    "    antecedentSet = set([i])\n",
    "    consequentSet = set([j])\n",
    "    \n",
    "    rules = []\n",
    "    if confIJ >= min_conf:\n",
    "        rules.append((antecedentSet, consequentSet, length / len(dataset.value), confIJ))\n",
    "    \n",
    "    expand_left = (0, antecedentSet, consequentSet, i, j, allseqIJ)\n",
    "    expand_right = (1, antecedentSet, consequentSet, i, j, allseqIJ)\n",
    "    return rules, expand_left, expand_right"
   ]
  },
  {
   "cell_type": "code",
   "execution_count": 395,
   "id": "80c6b859-588a-4e83-a76d-f3d88dd327ac",
   "metadata": {},
   "outputs": [],
   "source": [
    "rules_and_expands = reduced_IJ_JI.flatMapValues(lambda x:x) \\\n",
    "                     .map(lambda x: (x[1][1], x[1][0])) \\\n",
    "                     .map(lambda x: get_freq(x)) \\\n",
    "                     .filter(lambda x: is_above_minsup_relative(x, MIN_SUP_REL)) \\\n",
    "                     .map(lambda x: generate_rule_and_expands(x, MIN_CONF))\n"
   ]
  },
  {
   "cell_type": "code",
   "execution_count": 396,
   "id": "8813f9d8-7d92-47d7-b023-41e0c23be8cd",
   "metadata": {},
   "outputs": [
    {
     "data": {
      "text/plain": [
       "[([({0}, {2}, 0.03, 0.22727272727272727)],\n",
       "  (0,\n",
       "   {0},\n",
       "   {2},\n",
       "   0,\n",
       "   2,\n",
       "   [24, 77, 147, 153, 157, 180, 189, 230, 260, 308, 323, 339, 349, 355, 493]),\n",
       "  (1,\n",
       "   {0},\n",
       "   {2},\n",
       "   0,\n",
       "   2,\n",
       "   [24, 77, 147, 153, 157, 180, 189, 230, 260, 308, 323, 339, 349, 355, 493]))]"
      ]
     },
     "execution_count": 396,
     "metadata": {},
     "output_type": "execute_result"
    }
   ],
   "source": [
    "result = rules.collect()\n",
    "result[:1]"
   ]
  },
  {
   "cell_type": "code",
   "execution_count": 399,
   "id": "49792fce-1643-46fb-8ad0-1bfeaa257df8",
   "metadata": {},
   "outputs": [],
   "source": [
    "rules = rules_and_expands.map(lambda x: x[0]) \\\n",
    "                         .filter(lambda x: len(x) > 0) \\\n",
    "                         .collect()"
   ]
  },
  {
   "cell_type": "code",
   "execution_count": 411,
   "id": "2ef161f9-88d5-412a-bd3d-048fef93afd1",
   "metadata": {},
   "outputs": [],
   "source": [
    "expands = rules_and_expands.map(lambda x: (x[1], x[2])) \\\n",
    "                           .flatMap(lambda x: x) \\\n",
    "                           .collect()"
   ]
  },
  {
   "cell_type": "code",
   "execution_count": 413,
   "id": "8c7f451c-0f1a-44e1-894e-0f0633c8fc40",
   "metadata": {},
   "outputs": [
    {
     "data": {
      "text/plain": [
       "(0,\n",
       " {0},\n",
       " {2},\n",
       " 0,\n",
       " 2,\n",
       " [24, 77, 147, 153, 157, 180, 189, 230, 260, 308, 323, 339, 349, 355, 493])"
      ]
     },
     "execution_count": 413,
     "metadata": {},
     "output_type": "execute_result"
    }
   ],
   "source": [
    "expands[0]"
   ]
  },
  {
   "cell_type": "code",
   "execution_count": null,
   "id": "da94fba6-b1a1-4a34-abbc-6f3e629db82d",
   "metadata": {},
   "outputs": [],
   "source": []
  }
 ],
 "metadata": {
  "kernelspec": {
   "display_name": "Python 3",
   "language": "python",
   "name": "python3"
  },
  "language_info": {
   "codemirror_mode": {
    "name": "ipython",
    "version": 3
   },
   "file_extension": ".py",
   "mimetype": "text/x-python",
   "name": "python",
   "nbconvert_exporter": "python",
   "pygments_lexer": "ipython3",
   "version": "3.8.8"
  }
 },
 "nbformat": 4,
 "nbformat_minor": 5
}
