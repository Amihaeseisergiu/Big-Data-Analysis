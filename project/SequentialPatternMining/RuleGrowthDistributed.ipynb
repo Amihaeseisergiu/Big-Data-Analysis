{
 "cells": [
  {
   "cell_type": "code",
   "execution_count": null,
   "id": "50748985-76bc-45b4-a0e0-0c09a5def870",
   "metadata": {},
   "outputs": [],
   "source": []
  },
  {
   "cell_type": "code",
   "execution_count": 2,
   "id": "a6bea81e-4efd-4010-89c8-48e2a7d6d7db",
   "metadata": {},
   "outputs": [],
   "source": [
    "data = sc.textFile('../../data/msnbc/data50k.csv') \\\n",
    "         .map(lambda line: list(map(int,line.split(',')))) \\\n",
    "         .zipWithIndex() \\\n",
    "         .map(lambda x: (x[1], x[0]))"
   ]
  },
  {
   "cell_type": "code",
   "execution_count": 3,
   "id": "c1ca3815-30ec-4922-98bc-b0dbe5e08e10",
   "metadata": {},
   "outputs": [],
   "source": [
    "dataset = data.sortByKey().collect()"
   ]
  },
  {
   "cell_type": "code",
   "execution_count": 4,
   "id": "f98767fa-db11-4355-b632-0a78ffec9d9e",
   "metadata": {},
   "outputs": [],
   "source": [
    "dataset = sc.broadcast(dataset)"
   ]
  },
  {
   "cell_type": "code",
   "execution_count": 5,
   "id": "dcdcd085-af02-4e91-844e-e1542b6edabf",
   "metadata": {},
   "outputs": [
    {
     "data": {
      "text/plain": [
       "(1, [2])"
      ]
     },
     "execution_count": 5,
     "metadata": {},
     "output_type": "execute_result"
    }
   ],
   "source": [
    "dataset.value[1]"
   ]
  },
  {
   "cell_type": "code",
   "execution_count": null,
   "id": "2bddb633-5775-4573-9587-68b7debecfce",
   "metadata": {},
   "outputs": [],
   "source": []
  },
  {
   "cell_type": "code",
   "execution_count": 6,
   "id": "1cdb6dbd-4fb4-4b94-975e-d3f4b2c99955",
   "metadata": {},
   "outputs": [],
   "source": [
    "# lines = open(\"../../data/msnbc/data.csv\", 'r').readlines()[:80000]\n",
    "# open(\"../../data/msnbc/data50k.csv\", 'w').writelines(lines)"
   ]
  },
  {
   "cell_type": "markdown",
   "id": "45a48a65-df3b-4ef5-ab42-1a5eca6b4bdc",
   "metadata": {},
   "source": [
    "## getMinSupItems"
   ]
  },
  {
   "cell_type": "markdown",
   "id": "d5de7553-8a80-41ad-b6dc-13200ad095c9",
   "metadata": {},
   "source": [
    "### itemlocmap"
   ]
  },
  {
   "cell_type": "code",
   "execution_count": 7,
   "id": "0f79cd59-0cdf-4210-8803-4e4e0382a622",
   "metadata": {},
   "outputs": [],
   "source": [
    "def get_indices_for(x):\n",
    "    key = x[0]\n",
    "    seq_id = x[1]\n",
    "    id, seq = dataset.value[seq_id]\n",
    "    indices = list()\n",
    "    for idx in range(len(seq)):\n",
    "        if seq[idx] == key:\n",
    "            indices.append(idx)\n",
    "    return key, seq_id, indices"
   ]
  },
  {
   "cell_type": "code",
   "execution_count": 8,
   "id": "70141c19-c92e-4c21-946d-e28f9ad18296",
   "metadata": {},
   "outputs": [],
   "source": [
    "def get_first_last_index(x):\n",
    "    key = x[0]\n",
    "    seq_id = x[1]\n",
    "    indices = x[2]\n",
    "    return key, (seq_id, indices[0], indices[-1])"
   ]
  },
  {
   "cell_type": "code",
   "execution_count": 9,
   "id": "f6b1e643-586a-4895-9727-bf02cde19f8d",
   "metadata": {},
   "outputs": [],
   "source": [
    "def get_freq(x):\n",
    "    key = x[0]\n",
    "    sequences = x[1]\n",
    "    freq = len(sequences)\n",
    "    return key, freq, sequences"
   ]
  },
  {
   "cell_type": "code",
   "execution_count": 10,
   "id": "a8f5ab58-20ae-46e9-9dd7-458beef5a4fd",
   "metadata": {},
   "outputs": [],
   "source": [
    "itemlocmap = data.map(lambda x: (x[0], set(x[1])))  \\\n",
    "        .flatMapValues(lambda x:x) \\\n",
    "        .map(lambda x: (x[1], x[0])) \\\n",
    "        .map(lambda x: get_indices_for(x)) \\\n",
    "        .map(lambda x: get_first_last_index(x)) \\\n",
    "        .groupByKey() \\\n",
    "        .mapValues(list) \\\n",
    "        .map(lambda x: get_freq(x))"
   ]
  },
  {
   "cell_type": "code",
   "execution_count": null,
   "id": "3404d74e-4edb-4a37-8b3b-c1060528e12e",
   "metadata": {},
   "outputs": [],
   "source": []
  },
  {
   "cell_type": "code",
   "execution_count": null,
   "id": "40c30e4c-17fe-4bf7-887f-5cc0980b64ba",
   "metadata": {},
   "outputs": [],
   "source": []
  },
  {
   "cell_type": "code",
   "execution_count": 11,
   "id": "eeb6658d-865b-45bc-8372-3302f52b628e",
   "metadata": {},
   "outputs": [],
   "source": [
    "result = itemlocmap.collect()"
   ]
  },
  {
   "cell_type": "code",
   "execution_count": 12,
   "id": "2809e6d4-b7ba-42ae-b56a-331ea519d66d",
   "metadata": {
    "tags": []
   },
   "outputs": [],
   "source": [
    "# result[0]"
   ]
  },
  {
   "cell_type": "markdown",
   "id": "ede3d59f-8649-471c-9d94-b8a081a4abab",
   "metadata": {},
   "source": [
    "### above_threshold"
   ]
  },
  {
   "cell_type": "code",
   "execution_count": 13,
   "id": "4a9fd58c-78d1-42de-aba5-d7e22cae2a14",
   "metadata": {},
   "outputs": [],
   "source": [
    "THRESHOLD = 50"
   ]
  },
  {
   "cell_type": "code",
   "execution_count": 14,
   "id": "305e52c4-5e2d-4507-9dfc-77918ae1a551",
   "metadata": {},
   "outputs": [],
   "source": [
    "def above_threshold_filter(x, threshold=THRESHOLD):\n",
    "    return x[1] > threshold"
   ]
  },
  {
   "cell_type": "code",
   "execution_count": 15,
   "id": "47def428-2ede-41a3-916d-16e984448ae9",
   "metadata": {},
   "outputs": [],
   "source": [
    "above_threshold = itemlocmap.filter(lambda x: above_threshold_filter(x, THRESHOLD)) \\\n",
    "                            .map(lambda x: (x[0], (x[1:])))"
   ]
  },
  {
   "cell_type": "code",
   "execution_count": 16,
   "id": "de997a7a-4a1c-4897-aa14-e9542bf780c0",
   "metadata": {},
   "outputs": [],
   "source": [
    "items = sc.broadcast(above_threshold.sortByKey().collect())"
   ]
  },
  {
   "cell_type": "code",
   "execution_count": 17,
   "id": "4ef7abb7-c130-4349-8a72-28248a68a27f",
   "metadata": {
    "tags": []
   },
   "outputs": [],
   "source": [
    "# items.value[5]"
   ]
  },
  {
   "cell_type": "code",
   "execution_count": 18,
   "id": "00212fca-0cc0-4c78-b1e8-bd468ad5f13d",
   "metadata": {},
   "outputs": [],
   "source": [
    "# result = above_threshold.collect()"
   ]
  },
  {
   "cell_type": "code",
   "execution_count": 19,
   "id": "8412e6d2-0775-4919-ab9c-f43910f07cfd",
   "metadata": {},
   "outputs": [],
   "source": [
    "def extract_seq(x):\n",
    "    item, (freq, seq) = x\n",
    "    return item, [y[0] for y in seq]"
   ]
  },
  {
   "cell_type": "code",
   "execution_count": 20,
   "id": "d201871d-c86d-49b1-a823-7513ad34e72b",
   "metadata": {
    "tags": []
   },
   "outputs": [],
   "source": [
    "item_sequences = sc.broadcast(above_threshold.map(lambda x: extract_seq(x)).sortByKey().collect())"
   ]
  },
  {
   "cell_type": "code",
   "execution_count": 21,
   "id": "8410caad-3945-4768-b49c-bfe01990be4e",
   "metadata": {
    "tags": []
   },
   "outputs": [],
   "source": [
    "# item_sequences.value[0]"
   ]
  },
  {
   "cell_type": "code",
   "execution_count": 22,
   "id": "008b8323-a108-459d-9bab-fcee41c6ffaa",
   "metadata": {},
   "outputs": [],
   "source": [
    "items_ids_above_threshold = sc.broadcast(above_threshold.map(lambda x:x[0]).sortBy(lambda x:x).collect())"
   ]
  },
  {
   "cell_type": "code",
   "execution_count": 23,
   "id": "389fdd35-d544-4ad6-ad33-74fce531fb6a",
   "metadata": {},
   "outputs": [
    {
     "data": {
      "text/plain": [
       "[1, 2, 3, 4, 5, 6, 7, 8, 9, 10, 11, 12, 13, 14, 15, 16, 17]"
      ]
     },
     "execution_count": 23,
     "metadata": {},
     "output_type": "execute_result"
    }
   ],
   "source": [
    "items_ids_above_threshold.value"
   ]
  },
  {
   "cell_type": "markdown",
   "id": "df7b30ab-6ae3-4b97-b85a-9ed52d49e30f",
   "metadata": {},
   "source": [
    "## genRules"
   ]
  },
  {
   "cell_type": "code",
   "execution_count": 24,
   "id": "74bd2b2b-aaa7-4708-95e5-079a07410b09",
   "metadata": {},
   "outputs": [],
   "source": [
    "items_ids = above_threshold.map(lambda x: x[0]) \\\n",
    "                           .zipWithIndex()\n",
    "                           "
   ]
  },
  {
   "cell_type": "code",
   "execution_count": 25,
   "id": "57fd165a-77f8-49ce-8776-a917efb2442e",
   "metadata": {},
   "outputs": [],
   "source": [
    "count_items = items_ids.count()"
   ]
  },
  {
   "cell_type": "code",
   "execution_count": 26,
   "id": "cc8277f0-8dc0-4a52-aafe-76e7d274cb4a",
   "metadata": {},
   "outputs": [],
   "source": [
    "result = items_ids.collect()"
   ]
  },
  {
   "cell_type": "code",
   "execution_count": 27,
   "id": "8da5b24b-9e69-42a0-908e-013bde9f8d13",
   "metadata": {},
   "outputs": [
    {
     "data": {
      "text/plain": [
       "[(2, 0),\n",
       " (4, 1),\n",
       " (6, 2),\n",
       " (8, 3),\n",
       " (10, 4),\n",
       " (12, 5),\n",
       " (14, 6),\n",
       " (16, 7),\n",
       " (1, 8),\n",
       " (3, 9),\n",
       " (5, 10),\n",
       " (7, 11),\n",
       " (9, 12),\n",
       " (11, 13),\n",
       " (13, 14),\n",
       " (15, 15),\n",
       " (17, 16)]"
      ]
     },
     "execution_count": 27,
     "metadata": {},
     "output_type": "execute_result"
    }
   ],
   "source": [
    "result"
   ]
  },
  {
   "cell_type": "markdown",
   "id": "cd44b333-7816-4b97-a62b-ed81d0eed369",
   "metadata": {},
   "source": [
    "### Join"
   ]
  },
  {
   "cell_type": "code",
   "execution_count": 28,
   "id": "53da82e7-c274-48cf-9932-49002f41dd9e",
   "metadata": {},
   "outputs": [],
   "source": [
    "def prepare_join(x, count):\n",
    "    return x, list(range(x[1] + 1, count))"
   ]
  },
  {
   "cell_type": "code",
   "execution_count": 29,
   "id": "a1f9e1f6-5406-4638-b806-91da332b3b47",
   "metadata": {},
   "outputs": [],
   "source": [
    "items_join = items_ids.map(lambda x: prepare_join(x, count_items)) \\\n",
    "                      .flatMapValues(lambda x:x) \\\n",
    "                      .map(lambda x: (x[0][1], x[1])) \n"
   ]
  },
  {
   "cell_type": "code",
   "execution_count": 30,
   "id": "4c0c4bb9-0a9c-422d-9831-d7948df131dc",
   "metadata": {},
   "outputs": [
    {
     "data": {
      "text/plain": [
       "[(0, 6), (0, 7), (0, 8), (0, 9), (0, 10), (0, 11), (0, 12)]"
      ]
     },
     "execution_count": 30,
     "metadata": {},
     "output_type": "execute_result"
    }
   ],
   "source": [
    "result = items_join.collect()\n",
    "result[5:12]"
   ]
  },
  {
   "cell_type": "markdown",
   "id": "ba02cf75-24a0-4062-b085-9c5c3f1bba37",
   "metadata": {},
   "source": [
    "### I => J combination with no repeats"
   ]
  },
  {
   "cell_type": "code",
   "execution_count": 31,
   "id": "195d3a83-624d-43c7-8fd5-f33fef59b128",
   "metadata": {},
   "outputs": [],
   "source": [
    "def prepare_common_sequences(x):\n",
    "    i = x[0]\n",
    "    j = x[1]\n",
    "    itemI, itemJ = items.value[i], items.value[j]\n",
    "    occurancesI, occurancesJ = itemI[1][1], itemJ[1][1]\n",
    "    \n",
    "    allseqboth = []\n",
    "    \n",
    "    for seq_idI, firstI, lastI in occurancesI:\n",
    "        for seq_idJ, firstJ, lastJ in occurancesJ:\n",
    "            if seq_idI == seq_idJ:\n",
    "                allseqboth.append((seq_idI, (firstI, lastI), (firstJ, lastJ)))\n",
    "    \n",
    "    return x, allseqboth"
   ]
  },
  {
   "cell_type": "code",
   "execution_count": 32,
   "id": "a76714d6-eaa1-4f51-9eea-6e9037cbef3d",
   "metadata": {},
   "outputs": [],
   "source": [
    "def count_IJ_JI_rules(x): \n",
    "    key = x[0]\n",
    "    seq_id, itemI, itemJ = x[1]\n",
    "    \n",
    "    IJ = []\n",
    "    JI = []\n",
    "    if itemI[0] < itemJ[1]:\n",
    "        IJ.append(seq_id)\n",
    "    if itemJ[0] < itemI[1]:\n",
    "        JI.append(seq_id)\n",
    "        \n",
    "    return key, [IJ, JI]"
   ]
  },
  {
   "cell_type": "code",
   "execution_count": 33,
   "id": "233a775e-49a4-42fd-b8e1-0eff1d5df2a2",
   "metadata": {},
   "outputs": [],
   "source": [
    "def group_IJ_JI_rules(a, b):\n",
    "    a[0] += b[0]\n",
    "    a[1] += b[1]\n",
    "    return a"
   ]
  },
  {
   "cell_type": "code",
   "execution_count": 34,
   "id": "3c274674-eb73-493d-a986-a652fa659b7a",
   "metadata": {},
   "outputs": [],
   "source": [
    "def add_index_info(x):\n",
    "    key = x[0]\n",
    "    valuesI, valuesJ = x[1]\n",
    "    return key, ((valuesI, key), (valuesJ, tuple(reversed(key))))"
   ]
  },
  {
   "cell_type": "code",
   "execution_count": 35,
   "id": "7669309f-75c7-4b8d-a0b9-52fb3ef28fdf",
   "metadata": {},
   "outputs": [],
   "source": [
    "reduced_IJ_JI = items_join.map(lambda x: prepare_common_sequences(x)) \\\n",
    "                    .flatMapValues(lambda x:x) \\\n",
    "                    .map(lambda x: count_IJ_JI_rules(x)) \\\n",
    "                    .reduceByKey(group_IJ_JI_rules) \\\n",
    "                    .map(lambda x: add_index_info(x)) \n"
   ]
  },
  {
   "cell_type": "code",
   "execution_count": 37,
   "id": "4f8d209b-9d21-4c16-bbf9-9d5d07714738",
   "metadata": {},
   "outputs": [],
   "source": [
    "# result = reduced_IJ_JI.collect()\n",
    "# result[:2]"
   ]
  },
  {
   "cell_type": "markdown",
   "id": "34357e1b-eb8f-4331-90a7-f1855d9a4d09",
   "metadata": {},
   "source": [
    "### Accumulate rules"
   ]
  },
  {
   "cell_type": "code",
   "execution_count": 38,
   "id": "69283b16-3674-406e-baef-cf68e5809576",
   "metadata": {},
   "outputs": [],
   "source": [
    "MIN_SUP_REL = 0.01 * len(dataset.value)\n",
    "MIN_CONF = 0.1"
   ]
  },
  {
   "cell_type": "code",
   "execution_count": 39,
   "id": "2a4dd7eb-0a42-4235-9fe3-ad2ab28bef1f",
   "metadata": {},
   "outputs": [],
   "source": [
    "def get_freq(x):\n",
    "    key = x[0]\n",
    "    values = x[1]\n",
    "    frequencies = len(values)\n",
    "    return key, (values, frequencies)\n",
    "\n",
    "def is_above_minsup_relative(x, minsup_relative):\n",
    "    return x[1][1] > minsup_relative "
   ]
  },
  {
   "cell_type": "code",
   "execution_count": 40,
   "id": "aa73d1d8-6979-467a-87c2-2d42ac9f9b0b",
   "metadata": {},
   "outputs": [],
   "source": [
    "def generate_rule_and_expands(x, min_conf=MIN_CONF):\n",
    "    i, j = x[0]\n",
    "    allseqIJ, length = x[1]\n",
    "    itemI, itemJ = items.value[i], items.value[j]\n",
    "    occurancesI, occurancesJ = itemI[1][1], itemJ[1][1]\n",
    "#     occurancesI = (seq_id, first, last)\n",
    "    \n",
    "    allseqI = [x[0] for x in occurancesI]\n",
    "    allseqJ = [x[0] for x in occurancesJ]\n",
    "    \n",
    "    confIJ = length / len(occurancesI)\n",
    "    \n",
    "    antecedentSet = set([i])\n",
    "    consequentSet = set([j])\n",
    "    \n",
    "    rules = []\n",
    "    if confIJ >= min_conf:\n",
    "        rules.append((antecedentSet, consequentSet, length / len(dataset.value), confIJ))\n",
    "        \n",
    "#     expandLeft(antecedentSet,consequentSet,allseqI,allseqIJ,occurancesJ)\n",
    "#     expandRight(antecedentSet,consequentSet,allseqI,allseqJ,allseqIJ,occurancesI,occurancesJ)\n",
    "\n",
    "    expand_left = (0, antecedentSet, consequentSet, allseqI, occurancesJ, allseqIJ)\n",
    "    expand_right = (1, antecedentSet, consequentSet, allseqI, allseqJ, occurancesI, occurancesJ, allseqIJ)\n",
    "    return rules, expand_left, expand_right"
   ]
  },
  {
   "cell_type": "code",
   "execution_count": 41,
   "id": "80c6b859-588a-4e83-a76d-f3d88dd327ac",
   "metadata": {},
   "outputs": [],
   "source": [
    "rules_and_expands = reduced_IJ_JI.flatMapValues(lambda x:x) \\\n",
    "                     .map(lambda x: (x[1][1], x[1][0])) \\\n",
    "                     .map(lambda x: get_freq(x)) \\\n",
    "                     .filter(lambda x: is_above_minsup_relative(x, MIN_SUP_REL)) \\\n",
    "                     .map(lambda x: generate_rule_and_expands(x, MIN_CONF))\n"
   ]
  },
  {
   "cell_type": "code",
   "execution_count": 45,
   "id": "8813f9d8-7d92-47d7-b023-41e0c23be8cd",
   "metadata": {},
   "outputs": [],
   "source": [
    "# result = rules_and_expands.collect()\n",
    "# result[:1]"
   ]
  },
  {
   "cell_type": "code",
   "execution_count": 46,
   "id": "49792fce-1643-46fb-8ad0-1bfeaa257df8",
   "metadata": {},
   "outputs": [],
   "source": [
    "# rules = rules_and_expands.map(lambda x: x[0]) \\\n",
    "#                          .filter(lambda x: len(x) > 0) \\\n",
    "#                          .collect()"
   ]
  },
  {
   "cell_type": "code",
   "execution_count": 47,
   "id": "2ef161f9-88d5-412a-bd3d-048fef93afd1",
   "metadata": {},
   "outputs": [],
   "source": [
    "# expands = rules_and_expands.map(lambda x: (x[1], x[2])) \\\n",
    "#                            .flatMap(lambda x: x)"
   ]
  },
  {
   "cell_type": "code",
   "execution_count": 48,
   "id": "8c7f451c-0f1a-44e1-894e-0f0633c8fc40",
   "metadata": {},
   "outputs": [],
   "source": [
    "# result = expands.collect()"
   ]
  },
  {
   "cell_type": "code",
   "execution_count": null,
   "id": "6c157bee-f268-4f79-a071-d5f4f87f3052",
   "metadata": {},
   "outputs": [],
   "source": []
  },
  {
   "cell_type": "markdown",
   "id": "bfa1e84e-fe5d-4b99-bcd5-3696cf94654d",
   "metadata": {},
   "source": [
    "## Expand Left - Right"
   ]
  },
  {
   "cell_type": "code",
   "execution_count": 49,
   "id": "fe7418e0-0f49-4c8f-ba21-a255ba112a39",
   "metadata": {},
   "outputs": [],
   "source": [
    "def expand(x, min_sup_rel=MIN_SUP_REL, min_conf=MIN_CONF):\n",
    "    if x[0] == 0:\n",
    "        return expand_left(x[1:], min_sup_rel, min_conf)\n",
    "    else:\n",
    "        return expand_right(x[1:], min_sup_rel, min_conf)\n",
    "\n",
    "    \n",
    "def item_suitable_for_antecedentSet(item, index_item, antecedentSet, consequentSet):\n",
    "    for i in antecedentSet:\n",
    "        if i >= index_item:\n",
    "            return False        \n",
    "    if index_item in consequentSet or item not in items_ids_above_threshold.value:\n",
    "        return False\n",
    "    return True"
   ]
  },
  {
   "cell_type": "code",
   "execution_count": 50,
   "id": "68d2c925-2fa0-40b7-bc76-eb4b7ddd0ac6",
   "metadata": {},
   "outputs": [],
   "source": [
    "def index_of_item(item):\n",
    "    for i, j in enumerate(items_ids_above_threshold.value):\n",
    "        if j == item:\n",
    "            return i\n",
    "    return len(items_ids_above_threshold.value)"
   ]
  },
  {
   "cell_type": "code",
   "execution_count": 51,
   "id": "4aa47d48-a301-43e3-8ba5-92dee13307d9",
   "metadata": {},
   "outputs": [],
   "source": [
    "def find_first_last(occurances, seq_id):\n",
    "    for id, first, last in occurances:\n",
    "        if id == seq_id:\n",
    "            return first, last"
   ]
  },
  {
   "cell_type": "code",
   "execution_count": 52,
   "id": "b174d5b8-4ce4-4432-8cb6-33753273278f",
   "metadata": {},
   "outputs": [],
   "source": [
    "def expand_left(x, min_sup_rel, min_conf):\n",
    "    antecedentSet, consequentSet, allseqI, occurancesJ, allseqIJ = x\n",
    "    \n",
    "    possibleC = dict()\n",
    "    rules = []\n",
    "    expand_lefts = []\n",
    "    seqsLeft = len(allseqIJ)\n",
    "    \n",
    "    for seqID in allseqIJ:\n",
    "        _, seq = dataset.value[seqID] # Get sequence\n",
    "        firstJ, lastJ = find_first_last(occurancesJ, seqID) # Get last occurance of J in sequene\n",
    "        \n",
    "        for item in seq[:lastJ]:\n",
    "            index_item = index_of_item(item)\n",
    "            if not item_suitable_for_antecedentSet(item, index_item, antecedentSet, consequentSet):\n",
    "                continue\n",
    "                \n",
    "            if index_item not in possibleC: # first time item was found\n",
    "                if seqsLeft >= min_sup_rel: # min_sup_rel can be accomplished\n",
    "                    possibleC[index_item] = set([seqID])\n",
    "            elif len(possibleC[index_item]) + seqsLeft < min_sup_rel: # there no enough seqLeft to accomplish min_sup\n",
    "                del possibleC[index_item]\n",
    "            else:\n",
    "                possibleC[index_item].add(seqID)\n",
    "                \n",
    "        seqsLeft -= 1\n",
    "         \n",
    "    # Loop through possibleC to generate valid rules\n",
    "    for itemC, seqIDs in possibleC.items():\n",
    "        # Check if minimum support requirement is met\n",
    "        if len(seqIDs) >= min_sup_rel:\n",
    "            # SeqIDs of IuC \n",
    "            item, seqC = item_sequences.value[itemC]\n",
    "            allseqIC = set.intersection(set(seqC),allseqI)\n",
    "            \n",
    "            confIC_J = len(seqIDs) / len(allseqIC)\n",
    "\n",
    "            itemsIC = antecedentSet.copy()\n",
    "            itemsIC.add(itemC)\n",
    "\n",
    "            if confIC_J >= min_conf:\n",
    "                rules.append((itemsIC,consequentSet,len(seqIDs)/len(dataset.value),confIC_J))\n",
    "                \n",
    "            expand_lefts.append((0, itemsIC,consequentSet, allseqIC, occurancesJ, seqIDs))\n",
    "    return rules, expand_lefts\n",
    "            "
   ]
  },
  {
   "cell_type": "code",
   "execution_count": 53,
   "id": "a4159e4a-f615-47db-a86a-904f43c8e535",
   "metadata": {},
   "outputs": [],
   "source": [
    "def expand_right(x, min_sup_rel, min_conf):\n",
    "    antecedentSet, consequentSet, allseqI, allseqJ, occurancesI, occurancesJ, allseqIJ = x\n",
    "\n",
    "    possibleC = dict()\n",
    "    rules = []\n",
    "    expand_lefts = []\n",
    "    expand_rights = []\n",
    "    seqsLeft = len(allseqIJ)\n",
    "    \n",
    "    for seqID in allseqIJ:\n",
    "        _, seq = dataset.value[seqID] # Get sequence\n",
    "        firstI, lastI = find_first_last(occurancesI, seqID) # Get last occurance of J in sequene\n",
    "    \n",
    "        for item in seq[firstI+1:]:\n",
    "            index_item = index_of_item(item)\n",
    "            if not item_suitable_for_antecedentSet(item, index_item, consequentSet, antecedentSet):\n",
    "                continue\n",
    "            if index_item not in possibleC: # first time item was found\n",
    "                if seqsLeft >= min_sup_rel: # min_sup_rel can be accomplished\n",
    "                    possibleC[index_item] = set([seqID])\n",
    "            elif len(possibleC[index_item]) + seqsLeft < min_sup_rel: # there no enough seqLeft to accomplish min_sup\n",
    "                del possibleC[index_item]\n",
    "            else:\n",
    "                possibleC[index_item].add(seqID)\n",
    "                \n",
    "        seqsLeft -= 1\n",
    "    \n",
    "    for itemC, seqIDs in possibleC.items():\n",
    "        if len(seqIDs) >= min_sup_rel:\n",
    "            \n",
    "            allseqJC = set()\n",
    "            # New consequent occurance map\n",
    "            occurancesJC = dict()\n",
    "            \n",
    "            for seqID_J in allseqJ:\n",
    "                item, seqC = item_sequences.value[itemC]\n",
    "                if seqID_J in seqC:\n",
    "                    firstC, lastC = find_first_last(items.value[itemC][1][1], seqID_J)\n",
    "                    allseqJC.add(seqID_J)\n",
    "                    firstJ, lastJ = find_first_last(occurancesJ,seqID_J)\n",
    "                    if lastC < lastJ:\n",
    "                        occurancesJC[seqID_J] = [seqID_J,firstC,lastC]\n",
    "                    else:\n",
    "                        occurancesJC[seqID_J] = [seqID_J,firstJ,lastJ]\n",
    "                        \n",
    "            occurancesJC = list(occurancesJC.values())\n",
    "            confI_JC = len(seqIDs) / len(allseqI)  \n",
    "            itemsJC = consequentSet.copy()\n",
    "            itemsJC.add(itemC)\n",
    "            \n",
    "            if confI_JC >= min_conf:\n",
    "                rules.append((antecedentSet,itemsJC,len(seqIDs)/len(dataset.value),confI_JC))\n",
    "                \n",
    "            expand_lefts.append((0, antecedentSet, itemsJC, allseqI,occurancesJC, seqIDs))\n",
    "            expand_rights.append((1, antecedentSet, itemsJC, allseqI, allseqJC, occurancesI, occurancesJC, seqIDs))\n",
    "                \n",
    "    return rules,  expand_rights + expand_lefts\n",
    "\n"
   ]
  },
  {
   "cell_type": "code",
   "execution_count": null,
   "id": "ec839153-7bde-4540-9888-9a294a364822",
   "metadata": {},
   "outputs": [],
   "source": []
  },
  {
   "cell_type": "markdown",
   "id": "99b261db-0324-4c44-acac-8ea9bac742a4",
   "metadata": {},
   "source": [
    "## Compute Rules"
   ]
  },
  {
   "cell_type": "code",
   "execution_count": 54,
   "id": "6c3d645d-bb40-4070-9238-c4bec1c99854",
   "metadata": {},
   "outputs": [],
   "source": [
    "MIN_SUP_REL = 0.005 * len(dataset.value)\n",
    "MIN_CONF = 0.001"
   ]
  },
  {
   "cell_type": "code",
   "execution_count": 55,
   "id": "caaab45b-50a7-4554-8cce-c6c0ac46cb38",
   "metadata": {},
   "outputs": [],
   "source": [
    "rules_and_expands = reduced_IJ_JI.flatMapValues(lambda x:x) \\\n",
    "                     .map(lambda x: (x[1][1], x[1][0])) \\\n",
    "                     .map(lambda x: get_freq(x)) \\\n",
    "                     .filter(lambda x: is_above_minsup_relative(x, MIN_SUP_REL)) \\\n",
    "                     .map(lambda x: generate_rule_and_expands(x, MIN_CONF))\n"
   ]
  },
  {
   "cell_type": "code",
   "execution_count": null,
   "id": "5989a5e8-c86b-4134-ad0d-4cc3c12bb576",
   "metadata": {},
   "outputs": [],
   "source": [
    "rules = rules_and_expands.map(lambda x: x[0]) \\\n",
    "                         .filter(lambda x: len(x) > 0) \\\n",
    "                         .collect()\n",
    "\n",
    "expands = rules_and_expands.map(lambda x: (x[1], x[2])) \\\n",
    "                           .flatMap(lambda x: x)"
   ]
  },
  {
   "cell_type": "code",
   "execution_count": null,
   "id": "88216b07-a8a4-4bf5-8120-66707770370b",
   "metadata": {},
   "outputs": [],
   "source": [
    "print(f'Found {len(rules)} rules')\n",
    "# print(len(expands.collect()))"
   ]
  },
  {
   "cell_type": "code",
   "execution_count": null,
   "id": "0ae1ae92-4faa-47ed-a8c0-7d1fdc030ce8",
   "metadata": {},
   "outputs": [],
   "source": [
    "while True:\n",
    "    rules_and_expands = expands.map(lambda x: expand(x, MIN_SUP_REL, MIN_CONF))\n",
    "    rules += rules_and_expands.map(lambda x: x[0]) \\\n",
    "                          .filter(lambda x: len(x) > 0) \\\n",
    "                          .collect()\n",
    "    expands = rules_and_expands.map(lambda x: x[1]) \\\n",
    "                           .filter(lambda x: len(x) > 0) \\\n",
    "                           .flatMap(lambda x: x) \n",
    "    print(f'Found {len(rules)} rules')\n",
    "#     print(len(expands.collect()))\n",
    "    if expands.isEmpty():\n",
    "        break"
   ]
  },
  {
   "cell_type": "code",
   "execution_count": null,
   "id": "4c3a850c-8dab-4ebf-b389-345b68043a21",
   "metadata": {},
   "outputs": [],
   "source": [
    "all_rules = []\n",
    "for rule in rules:\n",
    "    for r in rule:\n",
    "        all_rules.append(r)\n",
    "        "
   ]
  },
  {
   "cell_type": "code",
   "execution_count": null,
   "id": "94b5fdda-445f-4ce9-a61a-f6f9f56fb0c2",
   "metadata": {},
   "outputs": [],
   "source": [
    "all_rules"
   ]
  },
  {
   "cell_type": "code",
   "execution_count": null,
   "id": "dc470e1e-8ada-4ae6-a78f-11949a9a8755",
   "metadata": {},
   "outputs": [],
   "source": []
  },
  {
   "cell_type": "code",
   "execution_count": null,
   "id": "e6f5c2a3-f108-48b1-b06a-269e7d2b64ed",
   "metadata": {},
   "outputs": [],
   "source": []
  }
 ],
 "metadata": {
  "kernelspec": {
   "display_name": "Python 3",
   "language": "python",
   "name": "python3"
  },
  "language_info": {
   "codemirror_mode": {
    "name": "ipython",
    "version": 3
   },
   "file_extension": ".py",
   "mimetype": "text/x-python",
   "name": "python",
   "nbconvert_exporter": "python",
   "pygments_lexer": "ipython3",
   "version": "3.8.8"
  }
 },
 "nbformat": 4,
 "nbformat_minor": 5
}
